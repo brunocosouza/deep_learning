{
  "nbformat": 4,
  "nbformat_minor": 0,
  "metadata": {
    "colab": {
      "name": "keras-first-neural-net.ipynb",
      "provenance": [],
      "collapsed_sections": [],
      "authorship_tag": "ABX9TyNs7hjR+GV4OZ7gkI3lKO8w",
      "include_colab_link": true
    },
    "kernelspec": {
      "name": "python3",
      "display_name": "Python 3"
    },
    "language_info": {
      "name": "python"
    }
  },
  "cells": [
    {
      "cell_type": "markdown",
      "metadata": {
        "id": "view-in-github",
        "colab_type": "text"
      },
      "source": [
        "<a href=\"https://colab.research.google.com/github/brunocosouza/deep_learning/blob/main/keras_first_neural_net.ipynb\" target=\"_parent\"><img src=\"https://colab.research.google.com/assets/colab-badge.svg\" alt=\"Open In Colab\"/></a>"
      ]
    },
    {
      "cell_type": "code",
      "metadata": {
        "id": "tzlGI_DlJFQW"
      },
      "source": [
        "import tensorflow as tf\n",
        "from   tensorflow import keras\n",
        "import matplotlib.pyplot as plt\n",
        "import numpy as np"
      ],
      "execution_count": null,
      "outputs": []
    },
    {
      "cell_type": "code",
      "metadata": {
        "colab": {
          "base_uri": "https://localhost:8080/"
        },
        "id": "hmC5jfy9JeqR",
        "outputId": "9b6dcb1d-097e-42fa-ceff-064a643acffd"
      },
      "source": [
        "# Scaling the images\n",
        "X_train = np.load(\"X_train.npy\") / 255\n",
        "X_train_gray = np.mean(X_train, axis = -1)\n",
        "Y_train = np.load(\"Y_train.npy\")\n",
        "\n",
        "# Shape\n",
        "X_train_gray.shape, Y_train.shape"
      ],
      "execution_count": null,
      "outputs": [
        {
          "output_type": "execute_result",
          "data": {
            "text/plain": [
              "((213, 200, 200), (213,))"
            ]
          },
          "metadata": {},
          "execution_count": 13
        }
      ]
    },
    {
      "cell_type": "code",
      "metadata": {
        "colab": {
          "base_uri": "https://localhost:8080/"
        },
        "id": "uGdmdY_mMdP7",
        "outputId": "db028a6e-b02b-43ee-dd05-d07ee1a71ff5"
      },
      "source": [
        "# Scaling valid dataset\n",
        "X_valid = np.load(\"X_valid.npy\") / 255\n",
        "X_valid_gray = np.mean(X_valid, axis = -1)\n",
        "Y_valid = np.load(\"Y_valid.npy\")\n",
        "\n",
        "#Shape\n",
        "X_valid_gray.shape, Y_valid.shape"
      ],
      "execution_count": null,
      "outputs": [
        {
          "output_type": "execute_result",
          "data": {
            "text/plain": [
              "((71, 200, 200), (71,))"
            ]
          },
          "metadata": {},
          "execution_count": 14
        }
      ]
    },
    {
      "cell_type": "code",
      "metadata": {
        "colab": {
          "base_uri": "https://localhost:8080/"
        },
        "id": "5YVps-QbMd9j",
        "outputId": "b54b7dbf-4729-4648-881f-fa3ce60669a1"
      },
      "source": [
        "# Scaling test dataset\n",
        "X_test = np.load(\"X_test.npy\") / 255\n",
        "X_test_gray = np.mean(X_test, axis = -1)\n",
        "Y_test = np.load(\"Y_valid.npy\")\n",
        "\n",
        "#Shape\n",
        "X_test_gray.shape, Y_test.shape"
      ],
      "execution_count": null,
      "outputs": [
        {
          "output_type": "execute_result",
          "data": {
            "text/plain": [
              "((71, 200, 200), (71,))"
            ]
          },
          "metadata": {},
          "execution_count": 16
        }
      ]
    },
    {
      "cell_type": "code",
      "metadata": {
        "id": "q76SXXOmMnOz"
      },
      "source": [
        "import tensorflow as tf\n",
        "from   tensorflow import keras\n",
        "\n",
        "# inherit Model from keras: the Subclass type\n",
        "class MyModel(keras.models.Model):\n",
        "    def __init__(self, shape=[200,200], activation=\"relu\", **kwargs):\n",
        "        super().__init__(**kwargs)\n",
        "        self.input1  = keras.layers.Input(shape, name=\"input\")\n",
        "        self.flatten = keras.layers.Flatten(input_shape=[200,200],  name=\"flatten\")\n",
        "        self.hidden1 = keras.layers.Dense(400, activation=\"relu\", name=\"hidden1\", kernel_initializer=\"he_uniform\")\n",
        "        self.hidden2 = keras.layers.Dense(100, activation=\"relu\", name=\"hidden2\", kernel_initializer=\"he_uniform\")\n",
        "        self.output1 = keras.layers.Dense(10, activation=\"softmax\", name=\"decision\")\n",
        "        \n",
        "    def call(self, inputs):\n",
        "        input1  = inputs # in case you had multiple inputs, you could separate them from a list\n",
        "        flatten = self.flatten(input1)\n",
        "        hidden1 = self.hidden1(flatten)\n",
        "        hidden2 = self.hidden2(hidden1)\n",
        "        concat  = keras.layers.concatenate([hidden1, hidden2])\n",
        "        output1 = self.output1(concat)\n",
        "        return output1 # in case you had multiple outputs, you could return them in a list\n",
        "\n",
        "keras.backend.clear_session() # clean memory from previous models \n",
        "np.random.seed(42)            \n",
        "tf.random.set_seed(42)\n",
        "model = MyModel()"
      ],
      "execution_count": null,
      "outputs": []
    },
    {
      "cell_type": "code",
      "metadata": {
        "id": "dhloQPEjMucb"
      },
      "source": [
        "# Pick an optimizer\n",
        "\n",
        "opt =  keras.optimizers.SGD(learning_rate=1e-3, momentum=0.9, nesterov=True)\n",
        "# opt =  keras.optimizers.RMSProp(learning_rate=1e-3, rho=0.9)\n",
        "# opt =  keras.optimizers.Adam(learning_rate=1e-3, beta_1=0.9, beta_2=0.999)\n",
        "\n",
        "model.compile(loss=\"sparse_categorical_crossentropy\", \n",
        "              optimizer=opt, \n",
        "              metrics=[\"accuracy\"])\n",
        "\n",
        "# Define a learning rate schedule as a callback function\n",
        "\n",
        "def exponential_decay(epoch):\n",
        "    return(0.01*0.1**(epoch/20))\n",
        "\n",
        "num_epochs   = 20\n",
        "lr_scheduler = keras.callbacks.LearningRateScheduler(exponential_decay)"
      ],
      "execution_count": null,
      "outputs": []
    },
    {
      "cell_type": "code",
      "metadata": {
        "colab": {
          "base_uri": "https://localhost:8080/"
        },
        "id": "xzRDWErvMvti",
        "outputId": "c1b9c2c1-6ba0-48eb-c1db-4568fd4bd45a"
      },
      "source": [
        "history  = model.fit(X_train_gray, Y_train, epochs=num_epochs, validation_data=(X_valid_gray, Y_valid))"
      ],
      "execution_count": null,
      "outputs": [
        {
          "output_type": "stream",
          "name": "stdout",
          "text": [
            "Epoch 1/20\n",
            "7/7 [==============================] - 1s 122ms/step - loss: 1.9248 - accuracy: 0.3568 - val_loss: 1.4897 - val_accuracy: 0.5493\n",
            "Epoch 2/20\n",
            "7/7 [==============================] - 1s 99ms/step - loss: 1.1969 - accuracy: 0.6197 - val_loss: 1.2076 - val_accuracy: 0.5775\n",
            "Epoch 3/20\n",
            "7/7 [==============================] - 1s 96ms/step - loss: 0.8483 - accuracy: 0.7559 - val_loss: 1.0510 - val_accuracy: 0.6479\n",
            "Epoch 4/20\n",
            "7/7 [==============================] - 1s 94ms/step - loss: 0.6455 - accuracy: 0.8357 - val_loss: 0.9371 - val_accuracy: 0.6620\n",
            "Epoch 5/20\n",
            "7/7 [==============================] - 1s 96ms/step - loss: 0.5016 - accuracy: 0.8920 - val_loss: 0.8838 - val_accuracy: 0.6761\n",
            "Epoch 6/20\n",
            "7/7 [==============================] - 1s 92ms/step - loss: 0.4029 - accuracy: 0.9343 - val_loss: 0.8394 - val_accuracy: 0.6761\n",
            "Epoch 7/20\n",
            "7/7 [==============================] - 1s 93ms/step - loss: 0.3292 - accuracy: 0.9577 - val_loss: 0.8027 - val_accuracy: 0.7324\n",
            "Epoch 8/20\n",
            "7/7 [==============================] - 1s 94ms/step - loss: 0.2814 - accuracy: 0.9577 - val_loss: 0.7823 - val_accuracy: 0.7465\n",
            "Epoch 9/20\n",
            "7/7 [==============================] - 1s 94ms/step - loss: 0.2430 - accuracy: 0.9718 - val_loss: 0.7724 - val_accuracy: 0.7465\n",
            "Epoch 10/20\n",
            "7/7 [==============================] - 1s 95ms/step - loss: 0.2133 - accuracy: 0.9812 - val_loss: 0.7570 - val_accuracy: 0.7324\n",
            "Epoch 11/20\n",
            "7/7 [==============================] - 1s 98ms/step - loss: 0.1900 - accuracy: 0.9812 - val_loss: 0.7471 - val_accuracy: 0.7606\n",
            "Epoch 12/20\n",
            "7/7 [==============================] - 1s 94ms/step - loss: 0.1695 - accuracy: 0.9812 - val_loss: 0.7314 - val_accuracy: 0.7606\n",
            "Epoch 13/20\n",
            "7/7 [==============================] - 1s 94ms/step - loss: 0.1542 - accuracy: 0.9906 - val_loss: 0.7255 - val_accuracy: 0.7746\n",
            "Epoch 14/20\n",
            "7/7 [==============================] - 1s 94ms/step - loss: 0.1397 - accuracy: 0.9953 - val_loss: 0.7206 - val_accuracy: 0.7887\n",
            "Epoch 15/20\n",
            "7/7 [==============================] - 1s 93ms/step - loss: 0.1282 - accuracy: 0.9953 - val_loss: 0.7125 - val_accuracy: 0.7746\n",
            "Epoch 16/20\n",
            "7/7 [==============================] - 1s 97ms/step - loss: 0.1186 - accuracy: 0.9953 - val_loss: 0.7054 - val_accuracy: 0.7887\n",
            "Epoch 17/20\n",
            "7/7 [==============================] - 1s 95ms/step - loss: 0.1097 - accuracy: 0.9953 - val_loss: 0.7023 - val_accuracy: 0.7887\n",
            "Epoch 18/20\n",
            "7/7 [==============================] - 1s 94ms/step - loss: 0.1025 - accuracy: 0.9953 - val_loss: 0.7016 - val_accuracy: 0.7887\n",
            "Epoch 19/20\n",
            "7/7 [==============================] - 1s 95ms/step - loss: 0.0958 - accuracy: 0.9953 - val_loss: 0.6985 - val_accuracy: 0.7887\n",
            "Epoch 20/20\n",
            "7/7 [==============================] - 1s 93ms/step - loss: 0.0907 - accuracy: 0.9953 - val_loss: 0.6866 - val_accuracy: 0.7887\n"
          ]
        }
      ]
    },
    {
      "cell_type": "code",
      "metadata": {
        "colab": {
          "base_uri": "https://localhost:8080/",
          "height": 324
        },
        "id": "SjMv0TNONJEa",
        "outputId": "562be958-1314-459a-b58b-a7f71ab680b4"
      },
      "source": [
        "import pandas as pd\n",
        "\n",
        "pd.DataFrame(history.history).plot(figsize=(8, 5))\n",
        "plt.grid(True)\n",
        "plt.gca().set_ylim(0, 1)\n",
        "plt.show()"
      ],
      "execution_count": null,
      "outputs": [
        {
          "output_type": "display_data",
          "data": {
            "image/png": "[encoded data removed]",
            "text/plain": [
              "<Figure size 576x360 with 1 Axes>"
            ]
          },
          "metadata": {
            "needs_background": "light"
          }
        }
      ]
    },
    {
      "cell_type": "code",
      "metadata": {
        "colab": {
          "base_uri": "https://localhost:8080/"
        },
        "id": "oQPimViARRpJ",
        "outputId": "e0e7b887-6638-422e-d046-98b44369c56e"
      },
      "source": [
        "model.save(\"my_keras_model.tf\")"
      ],
      "execution_count": null,
      "outputs": [
        {
          "output_type": "stream",
          "name": "stdout",
          "text": [
            "INFO:tensorflow:Assets written to: my_keras_model.tf/assets\n"
          ]
        }
      ]
    }
  ]
}