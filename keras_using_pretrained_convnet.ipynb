{
  "nbformat": 4,
  "nbformat_minor": 5,
  "metadata": {
    "kernelspec": {
      "display_name": "Python 3",
      "language": "python",
      "name": "python3"
    },
    "language_info": {
      "codemirror_mode": {
        "name": "ipython",
        "version": 3
      },
      "file_extension": ".py",
      "mimetype": "text/x-python",
      "name": "python",
      "nbconvert_exporter": "python",
      "pygments_lexer": "ipython3",
      "version": "3.8.5"
    },
    "colab": {
      "name": "keras-using-pretrained-convnet.ipynb",
      "provenance": [],
      "collapsed_sections": [],
      "include_colab_link": true
    }
  },
  "cells": [
    {
      "cell_type": "markdown",
      "metadata": {
        "id": "view-in-github",
        "colab_type": "text"
      },
      "source": [
        "<a href=\"https://colab.research.google.com/github/brunocosouza/deep_learning/blob/main/keras_using_pretrained_convnet.ipynb\" target=\"_parent\"><img src=\"https://colab.research.google.com/assets/colab-badge.svg\" alt=\"Open In Colab\"/></a>"
      ]
    },
    {
      "cell_type": "code",
      "metadata": {
        "id": "cb310563"
      },
      "source": [
        "import tensorflow as tf\n",
        "from tensorflow.keras.utils import to_categorical\n",
        "from tensorflow.keras import models\n",
        "from tensorflow.keras import layers\n",
        "from tensorflow.keras import optimizers\n",
        "from tensorflow.keras.preprocessing import image\n",
        "from tensorflow.keras.applications import VGG16\n",
        "import os\n",
        "import numpy as np\n",
        "import matplotlib.pyplot as plt\n",
        "import matplotlib.cm as cm\n",
        "from IPython.display import Image, display"
      ],
      "id": "cb310563",
      "execution_count": 1,
      "outputs": []
    },
    {
      "cell_type": "markdown",
      "metadata": {
        "id": "9c7debd1"
      },
      "source": [
        "### Load the training, validation, and test sets "
      ],
      "id": "9c7debd1"
    },
    {
      "cell_type": "code",
      "metadata": {
        "id": "e3144835"
      },
      "source": [
        "X_train   = np.load('X_train.npy')\n",
        "Y_train   = np.load('Y_train.npy')\n",
        "X_valid   = np.load('X_valid.npy')\n",
        "Y_valid   = np.load('Y_valid.npy')\n",
        "X_test    = np.load('X_test.npy')\n",
        "Y_test   = np.load('Y_test.npy')\n",
        "\n",
        "xsize     = X_train.shape[1]\n",
        "ysize     = X_train.shape[2]\n",
        "nchannels = X_train.shape[3]\n",
        "nclasses  = np.amax(Y_train) + 1\n",
        "img_size  = (xsize, ysize)\n",
        "\n",
        "Y_train = tf.keras.utils.to_categorical(Y_train)\n",
        "Y_valid = tf.keras.utils.to_categorical(Y_valid)\n",
        "Y_test  = tf.keras.utils.to_categorical(Y_test)"
      ],
      "id": "e3144835",
      "execution_count": 2,
      "outputs": []
    },
    {
      "cell_type": "code",
      "metadata": {
        "colab": {
          "base_uri": "https://localhost:8080/"
        },
        "id": "CKRBbD4ByTZx",
        "outputId": "01322bb6-d4cb-4121-d312-605f1b0326f2"
      },
      "source": [
        "Y_train.shape, Y_valid.shape, Y_test.shape"
      ],
      "id": "CKRBbD4ByTZx",
      "execution_count": 14,
      "outputs": [
        {
          "output_type": "execute_result",
          "data": {
            "text/plain": [
              "((213, 6), (71, 6), (71, 6))"
            ]
          },
          "metadata": {},
          "execution_count": 14
        }
      ]
    },
    {
      "cell_type": "markdown",
      "metadata": {
        "id": "fdd68485"
      },
      "source": [
        "### Load the VGG16 model pretrained on ImageNet"
      ],
      "id": "fdd68485"
    },
    {
      "cell_type": "code",
      "metadata": {
        "colab": {
          "base_uri": "https://localhost:8080/"
        },
        "id": "af9bd4a0",
        "outputId": "7c7b0d28-091b-4e88-e183-2f7b71a064bc"
      },
      "source": [
        "# Loads a pretrained model without the classifier layers (top) to process images with a given shape\n",
        "\n",
        "backbone = VGG16(weights='imagenet', include_top=False, input_shape=(xsize,ysize,nchannels))\n",
        "backbone.summary()"
      ],
      "id": "af9bd4a0",
      "execution_count": 7,
      "outputs": [
        {
          "output_type": "stream",
          "name": "stdout",
          "text": [
            "Downloading data from https://storage.googleapis.com/tensorflow/keras-applications/vgg16/vgg16_weights_tf_dim_ordering_tf_kernels_notop.h5\n",
            "58892288/58889256 [==============================] - 1s 0us/step\n",
            "58900480/58889256 [==============================] - 1s 0us/step\n",
            "Model: \"vgg16\"\n",
            "_________________________________________________________________\n",
            "Layer (type)                 Output Shape              Param #   \n",
            "=================================================================\n",
            "input_1 (InputLayer)         [(None, 200, 200, 3)]     0         \n",
            "_________________________________________________________________\n",
            "block1_conv1 (Conv2D)        (None, 200, 200, 64)      1792      \n",
            "_________________________________________________________________\n",
            "block1_conv2 (Conv2D)        (None, 200, 200, 64)      36928     \n",
            "_________________________________________________________________\n",
            "block1_pool (MaxPooling2D)   (None, 100, 100, 64)      0         \n",
            "_________________________________________________________________\n",
            "block2_conv1 (Conv2D)        (None, 100, 100, 128)     73856     \n",
            "_________________________________________________________________\n",
            "block2_conv2 (Conv2D)        (None, 100, 100, 128)     147584    \n",
            "_________________________________________________________________\n",
            "block2_pool (MaxPooling2D)   (None, 50, 50, 128)       0         \n",
            "_________________________________________________________________\n",
            "block3_conv1 (Conv2D)        (None, 50, 50, 256)       295168    \n",
            "_________________________________________________________________\n",
            "block3_conv2 (Conv2D)        (None, 50, 50, 256)       590080    \n",
            "_________________________________________________________________\n",
            "block3_conv3 (Conv2D)        (None, 50, 50, 256)       590080    \n",
            "_________________________________________________________________\n",
            "block3_pool (MaxPooling2D)   (None, 25, 25, 256)       0         \n",
            "_________________________________________________________________\n",
            "block4_conv1 (Conv2D)        (None, 25, 25, 512)       1180160   \n",
            "_________________________________________________________________\n",
            "block4_conv2 (Conv2D)        (None, 25, 25, 512)       2359808   \n",
            "_________________________________________________________________\n",
            "block4_conv3 (Conv2D)        (None, 25, 25, 512)       2359808   \n",
            "_________________________________________________________________\n",
            "block4_pool (MaxPooling2D)   (None, 12, 12, 512)       0         \n",
            "_________________________________________________________________\n",
            "block5_conv1 (Conv2D)        (None, 12, 12, 512)       2359808   \n",
            "_________________________________________________________________\n",
            "block5_conv2 (Conv2D)        (None, 12, 12, 512)       2359808   \n",
            "_________________________________________________________________\n",
            "block5_conv3 (Conv2D)        (None, 12, 12, 512)       2359808   \n",
            "_________________________________________________________________\n",
            "block5_pool (MaxPooling2D)   (None, 6, 6, 512)         0         \n",
            "=================================================================\n",
            "Total params: 14,714,688\n",
            "Trainable params: 14,714,688\n",
            "Non-trainable params: 0\n",
            "_________________________________________________________________\n"
          ]
        }
      ]
    },
    {
      "cell_type": "markdown",
      "metadata": {
        "id": "dc4ff198"
      },
      "source": [
        "### Extract features from the training, validation, and test sets "
      ],
      "id": "dc4ff198"
    },
    {
      "cell_type": "code",
      "metadata": {
        "id": "0a7affeb"
      },
      "source": [
        "feats_train = backbone.predict(X_train)\n",
        "feats_valid = backbone.predict(X_valid)\n",
        "feats_test  = backbone.predict(X_test)"
      ],
      "id": "0a7affeb",
      "execution_count": 8,
      "outputs": []
    },
    {
      "cell_type": "code",
      "metadata": {
        "colab": {
          "base_uri": "https://localhost:8080/"
        },
        "id": "mnR9MWJCxQqb",
        "outputId": "46f64b65-d8ff-45cf-b577-734782e86455"
      },
      "source": [
        "feats_train.shape, feats_valid.shape, feats_test.shape"
      ],
      "id": "mnR9MWJCxQqb",
      "execution_count": 15,
      "outputs": [
        {
          "output_type": "execute_result",
          "data": {
            "text/plain": [
              "((213, 6, 6, 512), (71, 6, 6, 512), (71, 6, 6, 512))"
            ]
          },
          "metadata": {},
          "execution_count": 15
        }
      ]
    },
    {
      "cell_type": "markdown",
      "metadata": {
        "id": "216294f4"
      },
      "source": [
        "### Define and train a MLP classifier"
      ],
      "id": "216294f4"
    },
    {
      "cell_type": "code",
      "metadata": {
        "id": "07a2f0ac"
      },
      "source": [
        "def DenseClassifier():\n",
        "    classifier = models.Sequential()\n",
        "    classifier.add(layers.Flatten())\n",
        "    classifier.add(layers.Dropout(0.5))\n",
        "    classifier.add(layers.Dense(512, name='dense1', activation='relu'))\n",
        "    # For categorical datasets (classes are 0,1,2,...,c-1)\n",
        "    classifier.add(layers.Dense(nclasses, name='decision', activation='softmax'))\n",
        "    # Choose optimizer and compile the model\n",
        "    opt  = optimizers.Adam(learning_rate=1e-4)\n",
        "    #opt = optimizers.RMSprop(learning_rate=1e-4)\n",
        "    #opt = optimizers.Nadam(learning_rate=0.002, beta_1=0.9, beta_2=0.999, epsilon=1e-08, schedule_decay=0.004)\n",
        "    classifier.compile(loss='categorical_crossentropy', optimizer = opt, metrics=['acc'])\n",
        "    return(classifier)\n",
        "                   \n",
        "def TrainClassifier(classifier, nepochs, batchsize):\n",
        "    history  = classifier.fit(feats_train,Y_train,epochs=nepochs,batch_size=batchsize,\n",
        "                              validation_data=(feats_valid,Y_valid))\n",
        "    return(history)   "
      ],
      "id": "07a2f0ac",
      "execution_count": 16,
      "outputs": []
    },
    {
      "cell_type": "code",
      "metadata": {
        "colab": {
          "base_uri": "https://localhost:8080/"
        },
        "id": "efac829a",
        "outputId": "f05053bb-fdf3-482e-ccfa-095f65cc11e9"
      },
      "source": [
        "tf.keras.backend.clear_session() \n",
        "np.random.seed(42)            \n",
        "tf.random.set_seed(42)\n",
        "# Create DenseClassifier\n",
        "classifier = DenseClassifier()\n",
        "\n",
        "#Training\n",
        "history    = TrainClassifier(classifier,10,20)\n",
        "classifier.summary()"
      ],
      "id": "efac829a",
      "execution_count": 17,
      "outputs": [
        {
          "output_type": "stream",
          "name": "stdout",
          "text": [
            "Epoch 1/10\n",
            "11/11 [==============================] - 2s 89ms/step - loss: 9.2856 - acc: 0.5070 - val_loss: 1.3530 - val_acc: 0.8451\n",
            "Epoch 2/10\n",
            "11/11 [==============================] - 1s 70ms/step - loss: 0.2834 - acc: 0.9577 - val_loss: 0.2478 - val_acc: 0.9718\n",
            "Epoch 3/10\n",
            "11/11 [==============================] - 1s 68ms/step - loss: 0.0334 - acc: 0.9906 - val_loss: 0.0917 - val_acc: 0.9718\n",
            "Epoch 4/10\n",
            "11/11 [==============================] - 1s 71ms/step - loss: 0.0118 - acc: 0.9953 - val_loss: 0.0399 - val_acc: 0.9859\n",
            "Epoch 5/10\n",
            "11/11 [==============================] - 1s 71ms/step - loss: 0.0632 - acc: 0.9953 - val_loss: 0.0345 - val_acc: 0.9859\n",
            "Epoch 6/10\n",
            "11/11 [==============================] - 1s 71ms/step - loss: 6.7160e-09 - acc: 1.0000 - val_loss: 0.0560 - val_acc: 0.9859\n",
            "Epoch 7/10\n",
            "11/11 [==============================] - 1s 71ms/step - loss: 0.0694 - acc: 0.9953 - val_loss: 0.0085 - val_acc: 1.0000\n",
            "Epoch 8/10\n",
            "11/11 [==============================] - 1s 72ms/step - loss: 5.7021e-04 - acc: 1.0000 - val_loss: 0.0581 - val_acc: 0.9859\n",
            "Epoch 9/10\n",
            "11/11 [==============================] - 1s 70ms/step - loss: 1.3190e-04 - acc: 1.0000 - val_loss: 0.0720 - val_acc: 0.9859\n",
            "Epoch 10/10\n",
            "11/11 [==============================] - 1s 69ms/step - loss: 0.0870 - acc: 0.9953 - val_loss: 0.0069 - val_acc: 1.0000\n",
            "Model: \"sequential\"\n",
            "_________________________________________________________________\n",
            "Layer (type)                 Output Shape              Param #   \n",
            "=================================================================\n",
            "flatten (Flatten)            (None, 18432)             0         \n",
            "_________________________________________________________________\n",
            "dropout (Dropout)            (None, 18432)             0         \n",
            "_________________________________________________________________\n",
            "dense1 (Dense)               (None, 512)               9437696   \n",
            "_________________________________________________________________\n",
            "decision (Dense)             (None, 6)                 3078      \n",
            "=================================================================\n",
            "Total params: 9,440,774\n",
            "Trainable params: 9,440,774\n",
            "Non-trainable params: 0\n",
            "_________________________________________________________________\n"
          ]
        }
      ]
    },
    {
      "cell_type": "markdown",
      "metadata": {
        "id": "253a0329"
      },
      "source": [
        "### Show training history"
      ],
      "id": "253a0329"
    },
    {
      "cell_type": "code",
      "metadata": {
        "colab": {
          "base_uri": "https://localhost:8080/",
          "height": 573
        },
        "id": "3c162dbb",
        "outputId": "344b6b23-f7c0-49e3-e32e-e4435b6124f0"
      },
      "source": [
        "def PlotHistory(history):\n",
        "    history_dict    = history.history\n",
        "    train_loss      = history_dict['loss']\n",
        "    valid_loss      = history_dict['val_loss']\n",
        "    epochs          = [ i for i in range(1, len(train_loss)+1)]\n",
        "    plt.plot(epochs, train_loss, 'bo', label='Training loss')\n",
        "    plt.plot(epochs, valid_loss, 'b', label='Validation loss')\n",
        "    plt.title('Training and Validation Loss Curves')\n",
        "    plt.xlabel('Epochs')\n",
        "    plt.ylabel('Loss Values')\n",
        "    plt.legend()\n",
        "    plt.show()\n",
        "    plt.clf() # Clear the figure\n",
        "    train_acc       = history_dict['acc']\n",
        "    valid_acc       = history_dict['val_acc']\n",
        "    plt.plot(epochs, train_acc, 'bo', label='Training acc')\n",
        "    plt.plot(epochs, valid_acc, 'b', label='Validation acc')\n",
        "    plt.title('Training and Validation Acc Curves')\n",
        "    plt.xlabel('Epochs')\n",
        "    plt.ylabel('Acc Values')\n",
        "    plt.legend()\n",
        "    plt.show() \n",
        "    \n",
        "PlotHistory(history)    "
      ],
      "id": "3c162dbb",
      "execution_count": 18,
      "outputs": [
        {
          "output_type": "display_data",
          "data": {
            "image/png": "[encoded data removed]",
            "text/plain": [
              "<Figure size 432x288 with 1 Axes>"
            ]
          },
          "metadata": {
            "needs_background": "light"
          }
        },
        {
          "output_type": "display_data",
          "data": {
            "image/png": "[encoded data removed]",
            "text/plain": [
              "<Figure size 432x288 with 1 Axes>"
            ]
          },
          "metadata": {
            "needs_background": "light"
          }
        }
      ]
    },
    {
      "cell_type": "markdown",
      "metadata": {
        "id": "64fa0ba7"
      },
      "source": [
        "### Evaluate your classifer with the backbone from VGG-16"
      ],
      "id": "64fa0ba7"
    },
    {
      "cell_type": "code",
      "metadata": {
        "colab": {
          "base_uri": "https://localhost:8080/"
        },
        "id": "c1fa4cbc",
        "outputId": "b97bf659-c316-41a1-c75c-366980d3261d"
      },
      "source": [
        "scores = classifier.evaluate(feats_test, Y_test, verbose=1)"
      ],
      "id": "c1fa4cbc",
      "execution_count": 19,
      "outputs": [
        {
          "output_type": "stream",
          "name": "stdout",
          "text": [
            "3/3 [==============================] - 0s 17ms/step - loss: 0.0852 - acc: 0.9859\n"
          ]
        }
      ]
    },
    {
      "cell_type": "markdown",
      "metadata": {
        "id": "87ce093f"
      },
      "source": [
        "### Classify a selected image"
      ],
      "id": "87ce093f"
    },
    {
      "cell_type": "code",
      "metadata": {
        "colab": {
          "base_uri": "https://localhost:8080/"
        },
        "id": "c1f76e88",
        "outputId": "0485ff5b-93ee-457c-d36b-f607d6807c29"
      },
      "source": [
        "def GetClass(preds):\n",
        "    imax          = 0\n",
        "    vmax          = preds[0][0]\n",
        "    for i in range(1,len(preds[0])):\n",
        "        if preds[0][i] > vmax:\n",
        "            vmax = preds[0][i]\n",
        "            imax = i\n",
        "\n",
        "    return(imax+1)\n",
        "\n",
        "# Image path to image tensor \n",
        "def ImagePathToTensor(img_path, size):\n",
        "    img    = tf.keras.preprocessing.image.load_img(img_path, target_size=size)\n",
        "    array  = tf.keras.preprocessing.image.img_to_array(img) # numpy array\n",
        "    tensor = np.expand_dims(array, axis=0)               # tensor array\n",
        "    tensor = tf.keras.applications.xception.preprocess_input(tensor)\n",
        "    return tensor\n",
        "\n",
        "img_path      = \"0001_0033.png\"\n",
        "img           = ImagePathToTensor(img_path, img_size)\n",
        "\n",
        "# Print the top class\n",
        "feats         = backbone.predict(img)\n",
        "preds         = classifier.predict(feats)\n",
        "print(preds)\n",
        "label         = GetClass(preds)\n",
        "print(\"Class: \", label)"
      ],
      "id": "c1f76e88",
      "execution_count": 31,
      "outputs": [
        {
          "output_type": "stream",
          "name": "stdout",
          "text": [
            "[[0.05695082 0.01899421 0.01138235 0.01226344 0.8391466  0.06126257]]\n",
            "Class:  5\n"
          ]
        }
      ]
    },
    {
      "cell_type": "markdown",
      "metadata": {
        "id": "ca05fe35"
      },
      "source": [
        "### Create and fine-tune a pretrained model on your dataset. "
      ],
      "id": "ca05fe35"
    },
    {
      "cell_type": "code",
      "metadata": {
        "id": "997bdf6f"
      },
      "source": [
        "# You will need access to the backbone layers, which requires to include its architecture here.\n",
        "def ModelForFineTuning(backbone):\n",
        "    newmodel = models.Sequential()\n",
        "    # Add the backbone from VGG-16\n",
        "    newmodel.add(layers.Conv2D(input_shape=(xsize,ysize,nchannels), name='block1_conv1',filters=64,kernel_size=(3,3),padding=\"same\", activation=\"relu\"))\n",
        "    newmodel.add(layers.Conv2D(filters=64,name='block1_conv2',kernel_size=(3,3),padding=\"same\", activation=\"relu\"))\n",
        "    newmodel.add(layers.MaxPool2D(pool_size=(2,2),name='block1_pool',strides=(2,2)))\n",
        "    newmodel.add(layers.Conv2D(filters=128, name='block2_conv1', kernel_size=(3,3), padding=\"same\", activation=\"relu\"))\n",
        "    newmodel.add(layers.Conv2D(filters=128, name='block2_conv2', kernel_size=(3,3), padding=\"same\", activation=\"relu\"))\n",
        "    newmodel.add(layers.MaxPool2D(pool_size=(2,2), name='block2_pool',strides=(2,2)))\n",
        "    newmodel.add(layers.Conv2D(filters=256, name='block3_conv1', kernel_size=(3,3), padding=\"same\", activation=\"relu\"))\n",
        "    newmodel.add(layers.Conv2D(filters=256, name='block3_conv2', kernel_size=(3,3), padding=\"same\", activation=\"relu\"))\n",
        "    newmodel.add(layers.Conv2D(filters=256, name='block3_conv3', kernel_size=(3,3), padding=\"same\", activation=\"relu\"))\n",
        "    newmodel.add(layers.MaxPool2D(pool_size=(2,2),name='block3_pool',strides=(2,2)))\n",
        "    newmodel.add(layers.Conv2D(filters=512, name='block4_conv1', kernel_size=(3,3), padding=\"same\", activation=\"relu\"))\n",
        "    newmodel.add(layers.Conv2D(filters=512, name='block4_conv2', kernel_size=(3,3), padding=\"same\", activation=\"relu\"))\n",
        "    newmodel.add(layers.Conv2D(filters=512, name='block4_conv3', kernel_size=(3,3), padding=\"same\", activation=\"relu\"))\n",
        "    newmodel.add(layers.MaxPool2D(pool_size=(2,2),name='block4_pool', strides=(2,2)))\n",
        "    newmodel.add(layers.Conv2D(filters=512, name='block5_conv1', kernel_size=(3,3), padding=\"same\", activation=\"relu\"))\n",
        "    newmodel.add(layers.Conv2D(filters=512, name='block5_conv2', kernel_size=(3,3), padding=\"same\", activation=\"relu\"))\n",
        "    newmodel.add(layers.Conv2D(filters=512, name='block5_conv3', kernel_size=(3,3), padding=\"same\", activation=\"relu\"))\n",
        "    newmodel.add(layers.MaxPool2D(pool_size=(2,2), name='block5_pool', strides=(2,2)))\n",
        "    # Set the weights and bias of the backbone pretrained on ImageNet\n",
        "    newmodel.set_weights(backbone.get_weights()) \n",
        "    # Add the MLP classifier\n",
        "    newmodel.add(layers.Flatten())\n",
        "    newmodel.add(layers.Dropout(0.5))\n",
        "    newmodel.add(layers.Dense(512, name='dense1', activation='relu')) \n",
        "    newmodel.add(layers.Dense(nclasses, name='decision', activation='softmax')) \n",
        "    # Choose optimizer and compile the model\n",
        "    opt = optimizers.Adam(learning_rate=1e-4)\n",
        "    #opt = optimizers.RMSprop(learning_rate=1e-4)\n",
        "    #opt = optimizers.Nadam(learning_rate=1e-4, beta_1=0.9, beta_2=0.999, epsilon=1e-08, schedule_decay=0.004)\n",
        "    newmodel.compile(loss='categorical_crossentropy', optimizer = opt, metrics=['acc'])\n",
        "    # Select the layers you want to train -- fine tune only the last layer of the backbone.\n",
        "    trainable_layers = ['block5_conv1', 'block5_conv2', 'block5_conv3', 'Dense1', 'decision']\n",
        "    for layer in newmodel.layers[:-1]: \n",
        "        if (layer.name in trainable_layers):\n",
        "            layer.trainable = True\n",
        "        else:\n",
        "            layer.trainable = False\n",
        "    return(newmodel)\n",
        "    \n",
        "    \n",
        "def TrainCNNModel(model, nepochs, batchsize):\n",
        "    history    = model.fit(X_train,Y_train,epochs=nepochs,batch_size=batchsize,validation_data=(X_valid,Y_valid))\n",
        "    return(history)\n"
      ],
      "id": "997bdf6f",
      "execution_count": 29,
      "outputs": []
    },
    {
      "cell_type": "code",
      "metadata": {
        "id": "4zdxblBgF8L-"
      },
      "source": [
        "ftmodel  = ModelForFineTuning(backbone)            \n",
        "ftmodel.summary()\n",
        "history  = TrainCNNModel(ftmodel,10,20) # you will need more epochs to properly train the model\n",
        "PlotHistory(history)"
      ],
      "id": "4zdxblBgF8L-",
      "execution_count": null,
      "outputs": []
    },
    {
      "cell_type": "markdown",
      "metadata": {
        "id": "aeI8OqEOF9pF"
      },
      "source": [
        "## Create a class instead of function"
      ],
      "id": "aeI8OqEOF9pF"
    },
    {
      "cell_type": "code",
      "metadata": {
        "id": "djAtcKjpEutA"
      },
      "source": [
        "# You will need access to the backbone layers, which requires to include its architecture here.\n",
        "class ModelFineTuning:\n",
        "  def __init__(self, backbone, learning_rate = 1e-4):\n",
        "    self.backbone = backbone\n",
        "    self.lr = learning_rate\n",
        "\n",
        "  def build_model(self):\n",
        "      self.newmodel = models.Sequential()\n",
        "      # Add the backbone from VGG-16\n",
        "      self.newmodel.add(layers.Conv2D(input_shape=(xsize,ysize,nchannels), name='block1_conv1',filters=64,kernel_size=(3,3),padding=\"same\", activation=\"relu\"))\n",
        "      self.newmodel.add(layers.Conv2D(filters=64,name='block1_conv2',kernel_size=(3,3),padding=\"same\", activation=\"relu\"))\n",
        "      self.newmodel.add(layers.MaxPool2D(pool_size=(2,2),name='block1_pool',strides=(2,2)))\n",
        "      self.newmodel.add(layers.Conv2D(filters=128, name='block2_conv1', kernel_size=(3,3), padding=\"same\", activation=\"relu\"))\n",
        "      self.newmodel.add(layers.Conv2D(filters=128, name='block2_conv2', kernel_size=(3,3), padding=\"same\", activation=\"relu\"))\n",
        "      self.newmodel.add(layers.MaxPool2D(pool_size=(2,2), name='block2_pool',strides=(2,2)))\n",
        "      self.newmodel.add(layers.Conv2D(filters=256, name='block3_conv1', kernel_size=(3,3), padding=\"same\", activation=\"relu\"))\n",
        "      self.newmodel.add(layers.Conv2D(filters=256, name='block3_conv2', kernel_size=(3,3), padding=\"same\", activation=\"relu\"))\n",
        "      self.newmodel.add(layers.Conv2D(filters=256, name='block3_conv3', kernel_size=(3,3), padding=\"same\", activation=\"relu\"))\n",
        "      self.newmodel.add(layers.MaxPool2D(pool_size=(2,2),name='block3_pool',strides=(2,2)))\n",
        "      self.newmodel.add(layers.Conv2D(filters=512, name='block4_conv1', kernel_size=(3,3), padding=\"same\", activation=\"relu\"))\n",
        "      self.newmodel.add(layers.Conv2D(filters=512, name='block4_conv2', kernel_size=(3,3), padding=\"same\", activation=\"relu\"))\n",
        "      self.newmodel.add(layers.Conv2D(filters=512, name='block4_conv3', kernel_size=(3,3), padding=\"same\", activation=\"relu\"))\n",
        "      self.newmodel.add(layers.MaxPool2D(pool_size=(2,2),name='block4_pool', strides=(2,2)))\n",
        "      self.newmodel.add(layers.Conv2D(filters=512, name='block5_conv1', kernel_size=(3,3), padding=\"same\", activation=\"relu\"))\n",
        "      self.newmodel.add(layers.Conv2D(filters=512, name='block5_conv2', kernel_size=(3,3), padding=\"same\", activation=\"relu\"))\n",
        "      self.newmodel.add(layers.Conv2D(filters=512, name='block5_conv3', kernel_size=(3,3), padding=\"same\", activation=\"relu\"))\n",
        "      self.newmodel.add(layers.MaxPool2D(pool_size=(2,2), name='block5_pool', strides=(2,2)))\n",
        "      # Set the weights and bias of the backbone pretrained on ImageNet\n",
        "      self.newmodel.set_weights(self.backbone.get_weights()) \n",
        "      # Add the MLP classifier\n",
        "      self.newmodel.add(layers.Flatten())\n",
        "      self.newmodel.add(layers.Dropout(0.5))\n",
        "      self.newmodel.add(layers.Dense(512, name='dense1', activation='relu')) \n",
        "      self.newmodel.add(layers.Dense(nclasses, name='decision', activation='softmax')) \n",
        "      # Choose optimizer and compile the model\n",
        "      opt = optimizers.Adam(self.lr)\n",
        "      #opt = optimizers.RMSprop(learning_rate=1e-4)\n",
        "      #opt = optimizers.Nadam(learning_rate=1e-4, beta_1=0.9, beta_2=0.999, epsilon=1e-08, schedule_decay=0.004)\n",
        "      self.newmodel.compile(loss='categorical_crossentropy', optimizer = opt, metrics=['acc'])\n",
        "      # Select the layers you want to train -- fine tune only the last layer of the backbone.\n",
        "      trainable_layers = ['block5_conv1', 'block5_conv2', 'block5_conv3', 'Dense1', 'decision']\n",
        "      for layer in self.newmodel.layers[:-1]: \n",
        "          if (layer.name in trainable_layers):\n",
        "              layer.trainable = True\n",
        "          else:\n",
        "              layer.trainable = False\n",
        "      return self.newmodel\n",
        "      \n",
        "  def train(self, X_train,Y_train, X_valid,Y_valid, nepochs, batchsize):\n",
        "    history = self.newmodel.fit(X_train,Y_train,epochs=nepochs,batch_size=batchsize,validation_data=(X_valid,Y_valid))\n",
        "    return history"
      ],
      "id": "djAtcKjpEutA",
      "execution_count": 57,
      "outputs": []
    },
    {
      "cell_type": "code",
      "metadata": {
        "colab": {
          "base_uri": "https://localhost:8080/"
        },
        "id": "3ee8a7c8",
        "outputId": "8ba79d8c-887b-411c-d63c-0e2df801f017"
      },
      "source": [
        "ftmodel  = ModelFineTuning(backbone, learning_rate = 0.01)\n",
        "ftmodel.build_model()\n",
        "hist = ftmodel.train(X_train, Y_train, X_valid, Y_valid, 10, 20)"
      ],
      "id": "3ee8a7c8",
      "execution_count": null,
      "outputs": [
        {
          "output_type": "stream",
          "name": "stdout",
          "text": [
            "Epoch 1/10\n",
            "11/11 [==============================] - 350s 32s/step - loss: 4.8701 - acc: 0.3005 - val_loss: 1.5699 - val_acc: 0.3662\n",
            "Epoch 2/10\n",
            "11/11 [==============================] - 349s 32s/step - loss: 1.4072 - acc: 0.4366 - val_loss: 0.9088 - val_acc: 0.5775\n",
            "Epoch 3/10\n",
            "11/11 [==============================] - 345s 32s/step - loss: 0.8674 - acc: 0.6761 - val_loss: 0.4795 - val_acc: 0.8028\n",
            "Epoch 4/10\n",
            "11/11 [==============================] - 349s 32s/step - loss: 0.4434 - acc: 0.8263 - val_loss: 0.2932 - val_acc: 0.9014\n",
            "Epoch 5/10\n",
            "11/11 [==============================] - 353s 32s/step - loss: 0.3527 - acc: 0.8498 - val_loss: 0.2928 - val_acc: 0.9155\n",
            "Epoch 6/10\n",
            "11/11 [==============================] - 348s 32s/step - loss: 0.2740 - acc: 0.9014 - val_loss: 0.4126 - val_acc: 0.8310\n",
            "Epoch 7/10\n",
            "11/11 [==============================] - 352s 32s/step - loss: 0.1838 - acc: 0.9343 - val_loss: 0.2739 - val_acc: 0.9296\n",
            "Epoch 8/10\n",
            " 6/11 [===============>..............] - ETA: 2:30 - loss: 0.1321 - acc: 0.9500"
          ]
        }
      ]
    },
    {
      "cell_type": "markdown",
      "metadata": {
        "id": "fd379282"
      },
      "source": [
        "### Save and evaluate model"
      ],
      "id": "fd379282"
    },
    {
      "cell_type": "code",
      "metadata": {
        "colab": {
          "base_uri": "https://localhost:8080/"
        },
        "id": "3a92222e",
        "outputId": "76ee0387-b8aa-4c1c-cfdb-563795b4bb4e"
      },
      "source": [
        "ftmodel.save(\"ftmodel.h5\")\n",
        "scores = ftmodel.evaluate(X_test, Y_test, verbose=1)"
      ],
      "id": "3a92222e",
      "execution_count": 32,
      "outputs": [
        {
          "output_type": "stream",
          "name": "stdout",
          "text": [
            "3/3 [==============================] - 31s 8s/step - loss: 0.7904 - acc: 0.7324\n"
          ]
        }
      ]
    },
    {
      "cell_type": "markdown",
      "metadata": {
        "id": "89dfb683"
      },
      "source": [
        "### Curiosity: How to extract and save weights and bias from all convolutional layers"
      ],
      "id": "89dfb683"
    },
    {
      "cell_type": "code",
      "metadata": {
        "id": "f4f6c7dd"
      },
      "source": [
        "nlayers              = len(ftmodel.layers) \n",
        "backbone_conv_layers = ['block1_conv1', 'block1_conv2', 'block2_conv1', 'block2_conv2', \n",
        "                        'block3_conv1', 'block3_conv2', 'block3_conv3', \n",
        "                        'block4_conv1', 'block4_conv2', 'block4_conv3', \n",
        "                        'block5_conv1', 'block5_conv2', 'block5_conv3']\n",
        "for i in range(nlayers): # another way to access layers\n",
        "    if (ftmodel.layers[i].name in backbone_conv_layers):\n",
        "        weights = ftmodel.layers[i].get_weights()[0]\n",
        "        bias    = ftmodel.layers[i].get_weights()[1]\n",
        "        np.save(\"{}_weights.npy\".format(ftmodel.layers[i].name),weights)\n",
        "        np.save(\"{}_bias.npy\".format(ftmodel.layers[i].name),bias)"
      ],
      "id": "f4f6c7dd",
      "execution_count": 33,
      "outputs": []
    },
    {
      "cell_type": "markdown",
      "metadata": {
        "id": "b4d2dcf6"
      },
      "source": [
        "### Curiosity: How to load and set weights and bias to convolutional layers"
      ],
      "id": "b4d2dcf6"
    },
    {
      "cell_type": "code",
      "metadata": {
        "id": "00887e1a"
      },
      "source": [
        "nlayers = len(backbone_conv_layers)\n",
        "weights = np.load(\"block1_conv1_weights.npy\")\n",
        "bias    = np.load(\"block1_conv1_bias.npy\")\n",
        "for i in range(nlayers):\n",
        "    if (backbone.layers[i].name == 'block1_conv1'):\n",
        "        backbone.layers[i].set_weights([weights, bias])"
      ],
      "id": "00887e1a",
      "execution_count": null,
      "outputs": []
    },
    {
      "cell_type": "markdown",
      "metadata": {
        "id": "GeqSPSthCTmw"
      },
      "source": [
        "# Load the ResNet50 model pretrained on ImageNet"
      ],
      "id": "GeqSPSthCTmw"
    },
    {
      "cell_type": "code",
      "metadata": {
        "id": "X69pp-hKCVQA"
      },
      "source": [
        "from tensorflow.keras.applications.resnet50 import ResNet50"
      ],
      "id": "X69pp-hKCVQA",
      "execution_count": 34,
      "outputs": []
    },
    {
      "cell_type": "code",
      "metadata": {
        "colab": {
          "base_uri": "https://localhost:8080/"
        },
        "id": "IruSJHzUCjrx",
        "outputId": "70f07e62-5eff-4459-bf17-27fa0c7158d3"
      },
      "source": [
        "# Loads a pretrained model without the classifier layers (top) to process images with a given shape\n",
        "\n",
        "backbone_resnet = ResNet50(weights='imagenet', include_top=False, input_shape=(xsize,ysize,nchannels))\n",
        "backbone_resnet.summary()"
      ],
      "id": "IruSJHzUCjrx",
      "execution_count": 35,
      "outputs": [
        {
          "output_type": "stream",
          "name": "stdout",
          "text": [
            "Downloading data from https://storage.googleapis.com/tensorflow/keras-applications/resnet/resnet50_weights_tf_dim_ordering_tf_kernels_notop.h5\n",
            "94773248/94765736 [==============================] - 1s 0us/step\n",
            "94781440/94765736 [==============================] - 1s 0us/step\n",
            "Model: \"resnet50\"\n",
            "__________________________________________________________________________________________________\n",
            "Layer (type)                    Output Shape         Param #     Connected to                     \n",
            "==================================================================================================\n",
            "input_1 (InputLayer)            [(None, 200, 200, 3) 0                                            \n",
            "__________________________________________________________________________________________________\n",
            "conv1_pad (ZeroPadding2D)       (None, 206, 206, 3)  0           input_1[0][0]                    \n",
            "__________________________________________________________________________________________________\n",
            "conv1_conv (Conv2D)             (None, 100, 100, 64) 9472        conv1_pad[0][0]                  \n",
            "__________________________________________________________________________________________________\n",
            "conv1_bn (BatchNormalization)   (None, 100, 100, 64) 256         conv1_conv[0][0]                 \n",
            "__________________________________________________________________________________________________\n",
            "conv1_relu (Activation)         (None, 100, 100, 64) 0           conv1_bn[0][0]                   \n",
            "__________________________________________________________________________________________________\n",
            "pool1_pad (ZeroPadding2D)       (None, 102, 102, 64) 0           conv1_relu[0][0]                 \n",
            "__________________________________________________________________________________________________\n",
            "pool1_pool (MaxPooling2D)       (None, 50, 50, 64)   0           pool1_pad[0][0]                  \n",
            "__________________________________________________________________________________________________\n",
            "conv2_block1_1_conv (Conv2D)    (None, 50, 50, 64)   4160        pool1_pool[0][0]                 \n",
            "__________________________________________________________________________________________________\n",
            "conv2_block1_1_bn (BatchNormali (None, 50, 50, 64)   256         conv2_block1_1_conv[0][0]        \n",
            "__________________________________________________________________________________________________\n",
            "conv2_block1_1_relu (Activation (None, 50, 50, 64)   0           conv2_block1_1_bn[0][0]          \n",
            "__________________________________________________________________________________________________\n",
            "conv2_block1_2_conv (Conv2D)    (None, 50, 50, 64)   36928       conv2_block1_1_relu[0][0]        \n",
            "__________________________________________________________________________________________________\n",
            "conv2_block1_2_bn (BatchNormali (None, 50, 50, 64)   256         conv2_block1_2_conv[0][0]        \n",
            "__________________________________________________________________________________________________\n",
            "conv2_block1_2_relu (Activation (None, 50, 50, 64)   0           conv2_block1_2_bn[0][0]          \n",
            "__________________________________________________________________________________________________\n",
            "conv2_block1_0_conv (Conv2D)    (None, 50, 50, 256)  16640       pool1_pool[0][0]                 \n",
            "__________________________________________________________________________________________________\n",
            "conv2_block1_3_conv (Conv2D)    (None, 50, 50, 256)  16640       conv2_block1_2_relu[0][0]        \n",
            "__________________________________________________________________________________________________\n",
            "conv2_block1_0_bn (BatchNormali (None, 50, 50, 256)  1024        conv2_block1_0_conv[0][0]        \n",
            "__________________________________________________________________________________________________\n",
            "conv2_block1_3_bn (BatchNormali (None, 50, 50, 256)  1024        conv2_block1_3_conv[0][0]        \n",
            "__________________________________________________________________________________________________\n",
            "conv2_block1_add (Add)          (None, 50, 50, 256)  0           conv2_block1_0_bn[0][0]          \n",
            "                                                                 conv2_block1_3_bn[0][0]          \n",
            "__________________________________________________________________________________________________\n",
            "conv2_block1_out (Activation)   (None, 50, 50, 256)  0           conv2_block1_add[0][0]           \n",
            "__________________________________________________________________________________________________\n",
            "conv2_block2_1_conv (Conv2D)    (None, 50, 50, 64)   16448       conv2_block1_out[0][0]           \n",
            "__________________________________________________________________________________________________\n",
            "conv2_block2_1_bn (BatchNormali (None, 50, 50, 64)   256         conv2_block2_1_conv[0][0]        \n",
            "__________________________________________________________________________________________________\n",
            "conv2_block2_1_relu (Activation (None, 50, 50, 64)   0           conv2_block2_1_bn[0][0]          \n",
            "__________________________________________________________________________________________________\n",
            "conv2_block2_2_conv (Conv2D)    (None, 50, 50, 64)   36928       conv2_block2_1_relu[0][0]        \n",
            "__________________________________________________________________________________________________\n",
            "conv2_block2_2_bn (BatchNormali (None, 50, 50, 64)   256         conv2_block2_2_conv[0][0]        \n",
            "__________________________________________________________________________________________________\n",
            "conv2_block2_2_relu (Activation (None, 50, 50, 64)   0           conv2_block2_2_bn[0][0]          \n",
            "__________________________________________________________________________________________________\n",
            "conv2_block2_3_conv (Conv2D)    (None, 50, 50, 256)  16640       conv2_block2_2_relu[0][0]        \n",
            "__________________________________________________________________________________________________\n",
            "conv2_block2_3_bn (BatchNormali (None, 50, 50, 256)  1024        conv2_block2_3_conv[0][0]        \n",
            "__________________________________________________________________________________________________\n",
            "conv2_block2_add (Add)          (None, 50, 50, 256)  0           conv2_block1_out[0][0]           \n",
            "                                                                 conv2_block2_3_bn[0][0]          \n",
            "__________________________________________________________________________________________________\n",
            "conv2_block2_out (Activation)   (None, 50, 50, 256)  0           conv2_block2_add[0][0]           \n",
            "__________________________________________________________________________________________________\n",
            "conv2_block3_1_conv (Conv2D)    (None, 50, 50, 64)   16448       conv2_block2_out[0][0]           \n",
            "__________________________________________________________________________________________________\n",
            "conv2_block3_1_bn (BatchNormali (None, 50, 50, 64)   256         conv2_block3_1_conv[0][0]        \n",
            "__________________________________________________________________________________________________\n",
            "conv2_block3_1_relu (Activation (None, 50, 50, 64)   0           conv2_block3_1_bn[0][0]          \n",
            "__________________________________________________________________________________________________\n",
            "conv2_block3_2_conv (Conv2D)    (None, 50, 50, 64)   36928       conv2_block3_1_relu[0][0]        \n",
            "__________________________________________________________________________________________________\n",
            "conv2_block3_2_bn (BatchNormali (None, 50, 50, 64)   256         conv2_block3_2_conv[0][0]        \n",
            "__________________________________________________________________________________________________\n",
            "conv2_block3_2_relu (Activation (None, 50, 50, 64)   0           conv2_block3_2_bn[0][0]          \n",
            "__________________________________________________________________________________________________\n",
            "conv2_block3_3_conv (Conv2D)    (None, 50, 50, 256)  16640       conv2_block3_2_relu[0][0]        \n",
            "__________________________________________________________________________________________________\n",
            "conv2_block3_3_bn (BatchNormali (None, 50, 50, 256)  1024        conv2_block3_3_conv[0][0]        \n",
            "__________________________________________________________________________________________________\n",
            "conv2_block3_add (Add)          (None, 50, 50, 256)  0           conv2_block2_out[0][0]           \n",
            "                                                                 conv2_block3_3_bn[0][0]          \n",
            "__________________________________________________________________________________________________\n",
            "conv2_block3_out (Activation)   (None, 50, 50, 256)  0           conv2_block3_add[0][0]           \n",
            "__________________________________________________________________________________________________\n",
            "conv3_block1_1_conv (Conv2D)    (None, 25, 25, 128)  32896       conv2_block3_out[0][0]           \n",
            "__________________________________________________________________________________________________\n",
            "conv3_block1_1_bn (BatchNormali (None, 25, 25, 128)  512         conv3_block1_1_conv[0][0]        \n",
            "__________________________________________________________________________________________________\n",
            "conv3_block1_1_relu (Activation (None, 25, 25, 128)  0           conv3_block1_1_bn[0][0]          \n",
            "__________________________________________________________________________________________________\n",
            "conv3_block1_2_conv (Conv2D)    (None, 25, 25, 128)  147584      conv3_block1_1_relu[0][0]        \n",
            "__________________________________________________________________________________________________\n",
            "conv3_block1_2_bn (BatchNormali (None, 25, 25, 128)  512         conv3_block1_2_conv[0][0]        \n",
            "__________________________________________________________________________________________________\n",
            "conv3_block1_2_relu (Activation (None, 25, 25, 128)  0           conv3_block1_2_bn[0][0]          \n",
            "__________________________________________________________________________________________________\n",
            "conv3_block1_0_conv (Conv2D)    (None, 25, 25, 512)  131584      conv2_block3_out[0][0]           \n",
            "__________________________________________________________________________________________________\n",
            "conv3_block1_3_conv (Conv2D)    (None, 25, 25, 512)  66048       conv3_block1_2_relu[0][0]        \n",
            "__________________________________________________________________________________________________\n",
            "conv3_block1_0_bn (BatchNormali (None, 25, 25, 512)  2048        conv3_block1_0_conv[0][0]        \n",
            "__________________________________________________________________________________________________\n",
            "conv3_block1_3_bn (BatchNormali (None, 25, 25, 512)  2048        conv3_block1_3_conv[0][0]        \n",
            "__________________________________________________________________________________________________\n",
            "conv3_block1_add (Add)          (None, 25, 25, 512)  0           conv3_block1_0_bn[0][0]          \n",
            "                                                                 conv3_block1_3_bn[0][0]          \n",
            "__________________________________________________________________________________________________\n",
            "conv3_block1_out (Activation)   (None, 25, 25, 512)  0           conv3_block1_add[0][0]           \n",
            "__________________________________________________________________________________________________\n",
            "conv3_block2_1_conv (Conv2D)    (None, 25, 25, 128)  65664       conv3_block1_out[0][0]           \n",
            "__________________________________________________________________________________________________\n",
            "conv3_block2_1_bn (BatchNormali (None, 25, 25, 128)  512         conv3_block2_1_conv[0][0]        \n",
            "__________________________________________________________________________________________________\n",
            "conv3_block2_1_relu (Activation (None, 25, 25, 128)  0           conv3_block2_1_bn[0][0]          \n",
            "__________________________________________________________________________________________________\n",
            "conv3_block2_2_conv (Conv2D)    (None, 25, 25, 128)  147584      conv3_block2_1_relu[0][0]        \n",
            "__________________________________________________________________________________________________\n",
            "conv3_block2_2_bn (BatchNormali (None, 25, 25, 128)  512         conv3_block2_2_conv[0][0]        \n",
            "__________________________________________________________________________________________________\n",
            "conv3_block2_2_relu (Activation (None, 25, 25, 128)  0           conv3_block2_2_bn[0][0]          \n",
            "__________________________________________________________________________________________________\n",
            "conv3_block2_3_conv (Conv2D)    (None, 25, 25, 512)  66048       conv3_block2_2_relu[0][0]        \n",
            "__________________________________________________________________________________________________\n",
            "conv3_block2_3_bn (BatchNormali (None, 25, 25, 512)  2048        conv3_block2_3_conv[0][0]        \n",
            "__________________________________________________________________________________________________\n",
            "conv3_block2_add (Add)          (None, 25, 25, 512)  0           conv3_block1_out[0][0]           \n",
            "                                                                 conv3_block2_3_bn[0][0]          \n",
            "__________________________________________________________________________________________________\n",
            "conv3_block2_out (Activation)   (None, 25, 25, 512)  0           conv3_block2_add[0][0]           \n",
            "__________________________________________________________________________________________________\n",
            "conv3_block3_1_conv (Conv2D)    (None, 25, 25, 128)  65664       conv3_block2_out[0][0]           \n",
            "__________________________________________________________________________________________________\n",
            "conv3_block3_1_bn (BatchNormali (None, 25, 25, 128)  512         conv3_block3_1_conv[0][0]        \n",
            "__________________________________________________________________________________________________\n",
            "conv3_block3_1_relu (Activation (None, 25, 25, 128)  0           conv3_block3_1_bn[0][0]          \n",
            "__________________________________________________________________________________________________\n",
            "conv3_block3_2_conv (Conv2D)    (None, 25, 25, 128)  147584      conv3_block3_1_relu[0][0]        \n",
            "__________________________________________________________________________________________________\n",
            "conv3_block3_2_bn (BatchNormali (None, 25, 25, 128)  512         conv3_block3_2_conv[0][0]        \n",
            "__________________________________________________________________________________________________\n",
            "conv3_block3_2_relu (Activation (None, 25, 25, 128)  0           conv3_block3_2_bn[0][0]          \n",
            "__________________________________________________________________________________________________\n",
            "conv3_block3_3_conv (Conv2D)    (None, 25, 25, 512)  66048       conv3_block3_2_relu[0][0]        \n",
            "__________________________________________________________________________________________________\n",
            "conv3_block3_3_bn (BatchNormali (None, 25, 25, 512)  2048        conv3_block3_3_conv[0][0]        \n",
            "__________________________________________________________________________________________________\n",
            "conv3_block3_add (Add)          (None, 25, 25, 512)  0           conv3_block2_out[0][0]           \n",
            "                                                                 conv3_block3_3_bn[0][0]          \n",
            "__________________________________________________________________________________________________\n",
            "conv3_block3_out (Activation)   (None, 25, 25, 512)  0           conv3_block3_add[0][0]           \n",
            "__________________________________________________________________________________________________\n",
            "conv3_block4_1_conv (Conv2D)    (None, 25, 25, 128)  65664       conv3_block3_out[0][0]           \n",
            "__________________________________________________________________________________________________\n",
            "conv3_block4_1_bn (BatchNormali (None, 25, 25, 128)  512         conv3_block4_1_conv[0][0]        \n",
            "__________________________________________________________________________________________________\n",
            "conv3_block4_1_relu (Activation (None, 25, 25, 128)  0           conv3_block4_1_bn[0][0]          \n",
            "__________________________________________________________________________________________________\n",
            "conv3_block4_2_conv (Conv2D)    (None, 25, 25, 128)  147584      conv3_block4_1_relu[0][0]        \n",
            "__________________________________________________________________________________________________\n",
            "conv3_block4_2_bn (BatchNormali (None, 25, 25, 128)  512         conv3_block4_2_conv[0][0]        \n",
            "__________________________________________________________________________________________________\n",
            "conv3_block4_2_relu (Activation (None, 25, 25, 128)  0           conv3_block4_2_bn[0][0]          \n",
            "__________________________________________________________________________________________________\n",
            "conv3_block4_3_conv (Conv2D)    (None, 25, 25, 512)  66048       conv3_block4_2_relu[0][0]        \n",
            "__________________________________________________________________________________________________\n",
            "conv3_block4_3_bn (BatchNormali (None, 25, 25, 512)  2048        conv3_block4_3_conv[0][0]        \n",
            "__________________________________________________________________________________________________\n",
            "conv3_block4_add (Add)          (None, 25, 25, 512)  0           conv3_block3_out[0][0]           \n",
            "                                                                 conv3_block4_3_bn[0][0]          \n",
            "__________________________________________________________________________________________________\n",
            "conv3_block4_out (Activation)   (None, 25, 25, 512)  0           conv3_block4_add[0][0]           \n",
            "__________________________________________________________________________________________________\n",
            "conv4_block1_1_conv (Conv2D)    (None, 13, 13, 256)  131328      conv3_block4_out[0][0]           \n",
            "__________________________________________________________________________________________________\n",
            "conv4_block1_1_bn (BatchNormali (None, 13, 13, 256)  1024        conv4_block1_1_conv[0][0]        \n",
            "__________________________________________________________________________________________________\n",
            "conv4_block1_1_relu (Activation (None, 13, 13, 256)  0           conv4_block1_1_bn[0][0]          \n",
            "__________________________________________________________________________________________________\n",
            "conv4_block1_2_conv (Conv2D)    (None, 13, 13, 256)  590080      conv4_block1_1_relu[0][0]        \n",
            "__________________________________________________________________________________________________\n",
            "conv4_block1_2_bn (BatchNormali (None, 13, 13, 256)  1024        conv4_block1_2_conv[0][0]        \n",
            "__________________________________________________________________________________________________\n",
            "conv4_block1_2_relu (Activation (None, 13, 13, 256)  0           conv4_block1_2_bn[0][0]          \n",
            "__________________________________________________________________________________________________\n",
            "conv4_block1_0_conv (Conv2D)    (None, 13, 13, 1024) 525312      conv3_block4_out[0][0]           \n",
            "__________________________________________________________________________________________________\n",
            "conv4_block1_3_conv (Conv2D)    (None, 13, 13, 1024) 263168      conv4_block1_2_relu[0][0]        \n",
            "__________________________________________________________________________________________________\n",
            "conv4_block1_0_bn (BatchNormali (None, 13, 13, 1024) 4096        conv4_block1_0_conv[0][0]        \n",
            "__________________________________________________________________________________________________\n",
            "conv4_block1_3_bn (BatchNormali (None, 13, 13, 1024) 4096        conv4_block1_3_conv[0][0]        \n",
            "__________________________________________________________________________________________________\n",
            "conv4_block1_add (Add)          (None, 13, 13, 1024) 0           conv4_block1_0_bn[0][0]          \n",
            "                                                                 conv4_block1_3_bn[0][0]          \n",
            "__________________________________________________________________________________________________\n",
            "conv4_block1_out (Activation)   (None, 13, 13, 1024) 0           conv4_block1_add[0][0]           \n",
            "__________________________________________________________________________________________________\n",
            "conv4_block2_1_conv (Conv2D)    (None, 13, 13, 256)  262400      conv4_block1_out[0][0]           \n",
            "__________________________________________________________________________________________________\n",
            "conv4_block2_1_bn (BatchNormali (None, 13, 13, 256)  1024        conv4_block2_1_conv[0][0]        \n",
            "__________________________________________________________________________________________________\n",
            "conv4_block2_1_relu (Activation (None, 13, 13, 256)  0           conv4_block2_1_bn[0][0]          \n",
            "__________________________________________________________________________________________________\n",
            "conv4_block2_2_conv (Conv2D)    (None, 13, 13, 256)  590080      conv4_block2_1_relu[0][0]        \n",
            "__________________________________________________________________________________________________\n",
            "conv4_block2_2_bn (BatchNormali (None, 13, 13, 256)  1024        conv4_block2_2_conv[0][0]        \n",
            "__________________________________________________________________________________________________\n",
            "conv4_block2_2_relu (Activation (None, 13, 13, 256)  0           conv4_block2_2_bn[0][0]          \n",
            "__________________________________________________________________________________________________\n",
            "conv4_block2_3_conv (Conv2D)    (None, 13, 13, 1024) 263168      conv4_block2_2_relu[0][0]        \n",
            "__________________________________________________________________________________________________\n",
            "conv4_block2_3_bn (BatchNormali (None, 13, 13, 1024) 4096        conv4_block2_3_conv[0][0]        \n",
            "__________________________________________________________________________________________________\n",
            "conv4_block2_add (Add)          (None, 13, 13, 1024) 0           conv4_block1_out[0][0]           \n",
            "                                                                 conv4_block2_3_bn[0][0]          \n",
            "__________________________________________________________________________________________________\n",
            "conv4_block2_out (Activation)   (None, 13, 13, 1024) 0           conv4_block2_add[0][0]           \n",
            "__________________________________________________________________________________________________\n",
            "conv4_block3_1_conv (Conv2D)    (None, 13, 13, 256)  262400      conv4_block2_out[0][0]           \n",
            "__________________________________________________________________________________________________\n",
            "conv4_block3_1_bn (BatchNormali (None, 13, 13, 256)  1024        conv4_block3_1_conv[0][0]        \n",
            "__________________________________________________________________________________________________\n",
            "conv4_block3_1_relu (Activation (None, 13, 13, 256)  0           conv4_block3_1_bn[0][0]          \n",
            "__________________________________________________________________________________________________\n",
            "conv4_block3_2_conv (Conv2D)    (None, 13, 13, 256)  590080      conv4_block3_1_relu[0][0]        \n",
            "__________________________________________________________________________________________________\n",
            "conv4_block3_2_bn (BatchNormali (None, 13, 13, 256)  1024        conv4_block3_2_conv[0][0]        \n",
            "__________________________________________________________________________________________________\n",
            "conv4_block3_2_relu (Activation (None, 13, 13, 256)  0           conv4_block3_2_bn[0][0]          \n",
            "__________________________________________________________________________________________________\n",
            "conv4_block3_3_conv (Conv2D)    (None, 13, 13, 1024) 263168      conv4_block3_2_relu[0][0]        \n",
            "__________________________________________________________________________________________________\n",
            "conv4_block3_3_bn (BatchNormali (None, 13, 13, 1024) 4096        conv4_block3_3_conv[0][0]        \n",
            "__________________________________________________________________________________________________\n",
            "conv4_block3_add (Add)          (None, 13, 13, 1024) 0           conv4_block2_out[0][0]           \n",
            "                                                                 conv4_block3_3_bn[0][0]          \n",
            "__________________________________________________________________________________________________\n",
            "conv4_block3_out (Activation)   (None, 13, 13, 1024) 0           conv4_block3_add[0][0]           \n",
            "__________________________________________________________________________________________________\n",
            "conv4_block4_1_conv (Conv2D)    (None, 13, 13, 256)  262400      conv4_block3_out[0][0]           \n",
            "__________________________________________________________________________________________________\n",
            "conv4_block4_1_bn (BatchNormali (None, 13, 13, 256)  1024        conv4_block4_1_conv[0][0]        \n",
            "__________________________________________________________________________________________________\n",
            "conv4_block4_1_relu (Activation (None, 13, 13, 256)  0           conv4_block4_1_bn[0][0]          \n",
            "__________________________________________________________________________________________________\n",
            "conv4_block4_2_conv (Conv2D)    (None, 13, 13, 256)  590080      conv4_block4_1_relu[0][0]        \n",
            "__________________________________________________________________________________________________\n",
            "conv4_block4_2_bn (BatchNormali (None, 13, 13, 256)  1024        conv4_block4_2_conv[0][0]        \n",
            "__________________________________________________________________________________________________\n",
            "conv4_block4_2_relu (Activation (None, 13, 13, 256)  0           conv4_block4_2_bn[0][0]          \n",
            "__________________________________________________________________________________________________\n",
            "conv4_block4_3_conv (Conv2D)    (None, 13, 13, 1024) 263168      conv4_block4_2_relu[0][0]        \n",
            "__________________________________________________________________________________________________\n",
            "conv4_block4_3_bn (BatchNormali (None, 13, 13, 1024) 4096        conv4_block4_3_conv[0][0]        \n",
            "__________________________________________________________________________________________________\n",
            "conv4_block4_add (Add)          (None, 13, 13, 1024) 0           conv4_block3_out[0][0]           \n",
            "                                                                 conv4_block4_3_bn[0][0]          \n",
            "__________________________________________________________________________________________________\n",
            "conv4_block4_out (Activation)   (None, 13, 13, 1024) 0           conv4_block4_add[0][0]           \n",
            "__________________________________________________________________________________________________\n",
            "conv4_block5_1_conv (Conv2D)    (None, 13, 13, 256)  262400      conv4_block4_out[0][0]           \n",
            "__________________________________________________________________________________________________\n",
            "conv4_block5_1_bn (BatchNormali (None, 13, 13, 256)  1024        conv4_block5_1_conv[0][0]        \n",
            "__________________________________________________________________________________________________\n",
            "conv4_block5_1_relu (Activation (None, 13, 13, 256)  0           conv4_block5_1_bn[0][0]          \n",
            "__________________________________________________________________________________________________\n",
            "conv4_block5_2_conv (Conv2D)    (None, 13, 13, 256)  590080      conv4_block5_1_relu[0][0]        \n",
            "__________________________________________________________________________________________________\n",
            "conv4_block5_2_bn (BatchNormali (None, 13, 13, 256)  1024        conv4_block5_2_conv[0][0]        \n",
            "__________________________________________________________________________________________________\n",
            "conv4_block5_2_relu (Activation (None, 13, 13, 256)  0           conv4_block5_2_bn[0][0]          \n",
            "__________________________________________________________________________________________________\n",
            "conv4_block5_3_conv (Conv2D)    (None, 13, 13, 1024) 263168      conv4_block5_2_relu[0][0]        \n",
            "__________________________________________________________________________________________________\n",
            "conv4_block5_3_bn (BatchNormali (None, 13, 13, 1024) 4096        conv4_block5_3_conv[0][0]        \n",
            "__________________________________________________________________________________________________\n",
            "conv4_block5_add (Add)          (None, 13, 13, 1024) 0           conv4_block4_out[0][0]           \n",
            "                                                                 conv4_block5_3_bn[0][0]          \n",
            "__________________________________________________________________________________________________\n",
            "conv4_block5_out (Activation)   (None, 13, 13, 1024) 0           conv4_block5_add[0][0]           \n",
            "__________________________________________________________________________________________________\n",
            "conv4_block6_1_conv (Conv2D)    (None, 13, 13, 256)  262400      conv4_block5_out[0][0]           \n",
            "__________________________________________________________________________________________________\n",
            "conv4_block6_1_bn (BatchNormali (None, 13, 13, 256)  1024        conv4_block6_1_conv[0][0]        \n",
            "__________________________________________________________________________________________________\n",
            "conv4_block6_1_relu (Activation (None, 13, 13, 256)  0           conv4_block6_1_bn[0][0]          \n",
            "__________________________________________________________________________________________________\n",
            "conv4_block6_2_conv (Conv2D)    (None, 13, 13, 256)  590080      conv4_block6_1_relu[0][0]        \n",
            "__________________________________________________________________________________________________\n",
            "conv4_block6_2_bn (BatchNormali (None, 13, 13, 256)  1024        conv4_block6_2_conv[0][0]        \n",
            "__________________________________________________________________________________________________\n",
            "conv4_block6_2_relu (Activation (None, 13, 13, 256)  0           conv4_block6_2_bn[0][0]          \n",
            "__________________________________________________________________________________________________\n",
            "conv4_block6_3_conv (Conv2D)    (None, 13, 13, 1024) 263168      conv4_block6_2_relu[0][0]        \n",
            "__________________________________________________________________________________________________\n",
            "conv4_block6_3_bn (BatchNormali (None, 13, 13, 1024) 4096        conv4_block6_3_conv[0][0]        \n",
            "__________________________________________________________________________________________________\n",
            "conv4_block6_add (Add)          (None, 13, 13, 1024) 0           conv4_block5_out[0][0]           \n",
            "                                                                 conv4_block6_3_bn[0][0]          \n",
            "__________________________________________________________________________________________________\n",
            "conv4_block6_out (Activation)   (None, 13, 13, 1024) 0           conv4_block6_add[0][0]           \n",
            "__________________________________________________________________________________________________\n",
            "conv5_block1_1_conv (Conv2D)    (None, 7, 7, 512)    524800      conv4_block6_out[0][0]           \n",
            "__________________________________________________________________________________________________\n",
            "conv5_block1_1_bn (BatchNormali (None, 7, 7, 512)    2048        conv5_block1_1_conv[0][0]        \n",
            "__________________________________________________________________________________________________\n",
            "conv5_block1_1_relu (Activation (None, 7, 7, 512)    0           conv5_block1_1_bn[0][0]          \n",
            "__________________________________________________________________________________________________\n",
            "conv5_block1_2_conv (Conv2D)    (None, 7, 7, 512)    2359808     conv5_block1_1_relu[0][0]        \n",
            "__________________________________________________________________________________________________\n",
            "conv5_block1_2_bn (BatchNormali (None, 7, 7, 512)    2048        conv5_block1_2_conv[0][0]        \n",
            "__________________________________________________________________________________________________\n",
            "conv5_block1_2_relu (Activation (None, 7, 7, 512)    0           conv5_block1_2_bn[0][0]          \n",
            "__________________________________________________________________________________________________\n",
            "conv5_block1_0_conv (Conv2D)    (None, 7, 7, 2048)   2099200     conv4_block6_out[0][0]           \n",
            "__________________________________________________________________________________________________\n",
            "conv5_block1_3_conv (Conv2D)    (None, 7, 7, 2048)   1050624     conv5_block1_2_relu[0][0]        \n",
            "__________________________________________________________________________________________________\n",
            "conv5_block1_0_bn (BatchNormali (None, 7, 7, 2048)   8192        conv5_block1_0_conv[0][0]        \n",
            "__________________________________________________________________________________________________\n",
            "conv5_block1_3_bn (BatchNormali (None, 7, 7, 2048)   8192        conv5_block1_3_conv[0][0]        \n",
            "__________________________________________________________________________________________________\n",
            "conv5_block1_add (Add)          (None, 7, 7, 2048)   0           conv5_block1_0_bn[0][0]          \n",
            "                                                                 conv5_block1_3_bn[0][0]          \n",
            "__________________________________________________________________________________________________\n",
            "conv5_block1_out (Activation)   (None, 7, 7, 2048)   0           conv5_block1_add[0][0]           \n",
            "__________________________________________________________________________________________________\n",
            "conv5_block2_1_conv (Conv2D)    (None, 7, 7, 512)    1049088     conv5_block1_out[0][0]           \n",
            "__________________________________________________________________________________________________\n",
            "conv5_block2_1_bn (BatchNormali (None, 7, 7, 512)    2048        conv5_block2_1_conv[0][0]        \n",
            "__________________________________________________________________________________________________\n",
            "conv5_block2_1_relu (Activation (None, 7, 7, 512)    0           conv5_block2_1_bn[0][0]          \n",
            "__________________________________________________________________________________________________\n",
            "conv5_block2_2_conv (Conv2D)    (None, 7, 7, 512)    2359808     conv5_block2_1_relu[0][0]        \n",
            "__________________________________________________________________________________________________\n",
            "conv5_block2_2_bn (BatchNormali (None, 7, 7, 512)    2048        conv5_block2_2_conv[0][0]        \n",
            "__________________________________________________________________________________________________\n",
            "conv5_block2_2_relu (Activation (None, 7, 7, 512)    0           conv5_block2_2_bn[0][0]          \n",
            "__________________________________________________________________________________________________\n",
            "conv5_block2_3_conv (Conv2D)    (None, 7, 7, 2048)   1050624     conv5_block2_2_relu[0][0]        \n",
            "__________________________________________________________________________________________________\n",
            "conv5_block2_3_bn (BatchNormali (None, 7, 7, 2048)   8192        conv5_block2_3_conv[0][0]        \n",
            "__________________________________________________________________________________________________\n",
            "conv5_block2_add (Add)          (None, 7, 7, 2048)   0           conv5_block1_out[0][0]           \n",
            "                                                                 conv5_block2_3_bn[0][0]          \n",
            "__________________________________________________________________________________________________\n",
            "conv5_block2_out (Activation)   (None, 7, 7, 2048)   0           conv5_block2_add[0][0]           \n",
            "__________________________________________________________________________________________________\n",
            "conv5_block3_1_conv (Conv2D)    (None, 7, 7, 512)    1049088     conv5_block2_out[0][0]           \n",
            "__________________________________________________________________________________________________\n",
            "conv5_block3_1_bn (BatchNormali (None, 7, 7, 512)    2048        conv5_block3_1_conv[0][0]        \n",
            "__________________________________________________________________________________________________\n",
            "conv5_block3_1_relu (Activation (None, 7, 7, 512)    0           conv5_block3_1_bn[0][0]          \n",
            "__________________________________________________________________________________________________\n",
            "conv5_block3_2_conv (Conv2D)    (None, 7, 7, 512)    2359808     conv5_block3_1_relu[0][0]        \n",
            "__________________________________________________________________________________________________\n",
            "conv5_block3_2_bn (BatchNormali (None, 7, 7, 512)    2048        conv5_block3_2_conv[0][0]        \n",
            "__________________________________________________________________________________________________\n",
            "conv5_block3_2_relu (Activation (None, 7, 7, 512)    0           conv5_block3_2_bn[0][0]          \n",
            "__________________________________________________________________________________________________\n",
            "conv5_block3_3_conv (Conv2D)    (None, 7, 7, 2048)   1050624     conv5_block3_2_relu[0][0]        \n",
            "__________________________________________________________________________________________________\n",
            "conv5_block3_3_bn (BatchNormali (None, 7, 7, 2048)   8192        conv5_block3_3_conv[0][0]        \n",
            "__________________________________________________________________________________________________\n",
            "conv5_block3_add (Add)          (None, 7, 7, 2048)   0           conv5_block2_out[0][0]           \n",
            "                                                                 conv5_block3_3_bn[0][0]          \n",
            "__________________________________________________________________________________________________\n",
            "conv5_block3_out (Activation)   (None, 7, 7, 2048)   0           conv5_block3_add[0][0]           \n",
            "==================================================================================================\n",
            "Total params: 23,587,712\n",
            "Trainable params: 23,534,592\n",
            "Non-trainable params: 53,120\n",
            "__________________________________________________________________________________________________\n"
          ]
        }
      ]
    },
    {
      "cell_type": "code",
      "metadata": {
        "id": "T7l4JBy5CxH5"
      },
      "source": [
        "def DenseClassifier():\n",
        "    classifier = models.Sequential()\n",
        "    classifier.add(layers.Flatten())\n",
        "    classifier.add(layers.Dropout(0.5))\n",
        "    classifier.add(layers.Dense(512, name='dense1', activation='relu'))\n",
        "    # For categorical datasets (classes are 0,1,2,...,c-1)\n",
        "    classifier.add(layers.Dense(nclasses, name='decision', activation='softmax'))\n",
        "    # Choose optimizer and compile the model\n",
        "    opt  = optimizers.Adam(learning_rate=1e-4)\n",
        "    #opt = optimizers.RMSprop(learning_rate=1e-4)\n",
        "    #opt = optimizers.Nadam(learning_rate=0.002, beta_1=0.9, beta_2=0.999, epsilon=1e-08, schedule_decay=0.004)\n",
        "    classifier.compile(loss='categorical_crossentropy', optimizer = opt, metrics=['acc'])\n",
        "    return(classifier)\n",
        "                   \n",
        "def TrainClassifier(feats_train, Y_train, classifier, feats_valid, Y_valid,  nepochs, batchsize):\n",
        "    history  = classifier.fit(feats_train,Y_train,epochs=nepochs,batch_size=batchsize,\n",
        "                              validation_data=(feats_valid,Y_valid))\n",
        "    return(history)   "
      ],
      "id": "T7l4JBy5CxH5",
      "execution_count": 37,
      "outputs": []
    },
    {
      "cell_type": "code",
      "metadata": {
        "id": "Cuiit7UgC7XR"
      },
      "source": [
        "feats_train_resnet = backbone.predict(X_train)\n",
        "feats_valid_resnet = backbone.predict(X_valid)\n",
        "feats_test_resnet = backbone.predict(X_test)"
      ],
      "id": "Cuiit7UgC7XR",
      "execution_count": 36,
      "outputs": []
    },
    {
      "cell_type": "code",
      "metadata": {
        "colab": {
          "base_uri": "https://localhost:8080/"
        },
        "id": "0wuiklcfCvZQ",
        "outputId": "a53eaf3c-1549-47bb-a3fa-47af870bdacf"
      },
      "source": [
        "tf.keras.backend.clear_session() \n",
        "np.random.seed(42)            \n",
        "tf.random.set_seed(42)\n",
        "# Create DenseClassifier\n",
        "classifier = DenseClassifier()\n",
        "\n",
        "#Training\n",
        "history    = TrainClassifier(feats_train_resnet, Y_train, classifier, feats_valid_resnet, Y_valid, 10,20)\n",
        "classifier.summary()"
      ],
      "id": "0wuiklcfCvZQ",
      "execution_count": 38,
      "outputs": [
        {
          "output_type": "stream",
          "name": "stdout",
          "text": [
            "Epoch 1/10\n",
            "11/11 [==============================] - 1s 68ms/step - loss: 9.2856 - acc: 0.5070 - val_loss: 1.3530 - val_acc: 0.8451\n",
            "Epoch 2/10\n",
            "11/11 [==============================] - 1s 56ms/step - loss: 0.2834 - acc: 0.9577 - val_loss: 0.2478 - val_acc: 0.9718\n",
            "Epoch 3/10\n",
            "11/11 [==============================] - 1s 56ms/step - loss: 0.0334 - acc: 0.9906 - val_loss: 0.0917 - val_acc: 0.9718\n",
            "Epoch 4/10\n",
            "11/11 [==============================] - 1s 56ms/step - loss: 0.0118 - acc: 0.9953 - val_loss: 0.0399 - val_acc: 0.9859\n",
            "Epoch 5/10\n",
            "11/11 [==============================] - 1s 56ms/step - loss: 0.0632 - acc: 0.9953 - val_loss: 0.0345 - val_acc: 0.9859\n",
            "Epoch 6/10\n",
            "11/11 [==============================] - 1s 56ms/step - loss: 6.7160e-09 - acc: 1.0000 - val_loss: 0.0560 - val_acc: 0.9859\n",
            "Epoch 7/10\n",
            "11/11 [==============================] - 1s 56ms/step - loss: 0.0694 - acc: 0.9953 - val_loss: 0.0085 - val_acc: 1.0000\n",
            "Epoch 8/10\n",
            "11/11 [==============================] - 1s 55ms/step - loss: 5.7021e-04 - acc: 1.0000 - val_loss: 0.0581 - val_acc: 0.9859\n",
            "Epoch 9/10\n",
            "11/11 [==============================] - 1s 54ms/step - loss: 1.3190e-04 - acc: 1.0000 - val_loss: 0.0720 - val_acc: 0.9859\n",
            "Epoch 10/10\n",
            "11/11 [==============================] - 1s 54ms/step - loss: 0.0870 - acc: 0.9953 - val_loss: 0.0069 - val_acc: 1.0000\n",
            "Model: \"sequential\"\n",
            "_________________________________________________________________\n",
            "Layer (type)                 Output Shape              Param #   \n",
            "=================================================================\n",
            "flatten (Flatten)            (None, 18432)             0         \n",
            "_________________________________________________________________\n",
            "dropout (Dropout)            (None, 18432)             0         \n",
            "_________________________________________________________________\n",
            "dense1 (Dense)               (None, 512)               9437696   \n",
            "_________________________________________________________________\n",
            "decision (Dense)             (None, 6)                 3078      \n",
            "=================================================================\n",
            "Total params: 9,440,774\n",
            "Trainable params: 9,440,774\n",
            "Non-trainable params: 0\n",
            "_________________________________________________________________\n"
          ]
        }
      ]
    },
    {
      "cell_type": "code",
      "metadata": {
        "colab": {
          "base_uri": "https://localhost:8080/",
          "height": 573
        },
        "id": "1FCGea7MEE4h",
        "outputId": "c6d3a8b5-1352-468f-f166-360399ebab98"
      },
      "source": [
        "PlotHistory(history)  "
      ],
      "id": "1FCGea7MEE4h",
      "execution_count": 39,
      "outputs": [
        {
          "output_type": "display_data",
          "data": {
            "image/png": "[encoded data removed]",
            "text/plain": [
              "<Figure size 432x288 with 1 Axes>"
            ]
          },
          "metadata": {
            "needs_background": "light"
          }
        },
        {
          "output_type": "display_data",
          "data": {
            "image/png": "[encoded data removed]",
            "text/plain": [
              "<Figure size 432x288 with 1 Axes>"
            ]
          },
          "metadata": {
            "needs_background": "light"
          }
        }
      ]
    },
    {
      "cell_type": "code",
      "metadata": {
        "colab": {
          "base_uri": "https://localhost:8080/"
        },
        "id": "XCL4CdibER-h",
        "outputId": "c749e836-3a96-48f8-9481-a37c8712bda3"
      },
      "source": [
        "ftmodel.save(\"resnetmodel.h5\")\n",
        "scores = ftmodel.evaluate(X_test, Y_test, verbose=1)"
      ],
      "id": "XCL4CdibER-h",
      "execution_count": 40,
      "outputs": [
        {
          "output_type": "stream",
          "name": "stdout",
          "text": [
            "3/3 [==============================] - 28s 8s/step - loss: 0.7904 - acc: 0.7324\n"
          ]
        }
      ]
    }
  ]
}