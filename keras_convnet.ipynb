{
  "nbformat": 4,
  "nbformat_minor": 5,
  "metadata": {
    "kernelspec": {
      "display_name": "Python 3",
      "language": "python",
      "name": "python3"
    },
    "language_info": {
      "codemirror_mode": {
        "name": "ipython",
        "version": 3
      },
      "file_extension": ".py",
      "mimetype": "text/x-python",
      "name": "python",
      "nbconvert_exporter": "python",
      "pygments_lexer": "ipython3",
      "version": "3.8.5"
    },
    "colab": {
      "name": "keras-convnet.ipynb",
      "provenance": [],
      "collapsed_sections": [],
      "include_colab_link": true
    }
  },
  "cells": [
    {
      "cell_type": "markdown",
      "metadata": {
        "id": "view-in-github",
        "colab_type": "text"
      },
      "source": [
        "<a href=\"https://colab.research.google.com/github/brunocosouza/deep_learning/blob/main/keras_convnet.ipynb\" target=\"_parent\"><img src=\"https://colab.research.google.com/assets/colab-badge.svg\" alt=\"Open In Colab\"/></a>"
      ]
    },
    {
      "cell_type": "code",
      "metadata": {
        "id": "cb310563"
      },
      "source": [
        "import tensorflow as tf\n",
        "from   tensorflow import keras\n",
        "from   skimage.color import rgb2lab\n",
        "from   tensorflow.keras.utils import to_categorical\n",
        "from   tensorflow.keras import layers\n",
        "from   tensorflow.keras import models\n",
        "from   tensorflow.keras import optimizers\n",
        "from   tensorflow.keras.preprocessing import image\n",
        "from   tensorflow.keras.preprocessing.image import ImageDataGenerator\n",
        "import os\n",
        "import numpy as np\n",
        "import matplotlib.pyplot as plt"
      ],
      "id": "cb310563",
      "execution_count": null,
      "outputs": []
    },
    {
      "cell_type": "markdown",
      "metadata": {
        "id": "fdd68485"
      },
      "source": [
        "### Load training, validation, and testing images from their numpy arrays together with their labels "
      ],
      "id": "fdd68485"
    },
    {
      "cell_type": "code",
      "metadata": {
        "id": "af9bd4a0"
      },
      "source": [
        "X_train   = np.load('X_train.npy')\n",
        "Y_train   = np.load('Y_train.npy')\n",
        "X_valid   = np.load('X_valid.npy')\n",
        "Y_valid   = np.load('Y_valid.npy')\n",
        "X_test    = np.load('X_test.npy')\n",
        "Y_test    = np.load('Y_test.npy')\n",
        "xsize     = X_train.shape[1]\n",
        "ysize     = X_train.shape[2]\n",
        "nchannels = X_train.shape[3]\n",
        "nclasses  = np.amax(Y_train) + 1\n",
        "\n",
        "if (nclasses > 2):\n",
        "    Y_train = to_categorical(Y_train)\n",
        "    Y_valid = to_categorical(Y_valid)\n",
        "    Y_test  = to_categorical(Y_test)\n",
        "\n",
        "model_basename = 'corel'"
      ],
      "id": "af9bd4a0",
      "execution_count": null,
      "outputs": []
    },
    {
      "cell_type": "markdown",
      "metadata": {
        "id": "d0091688"
      },
      "source": [
        "### ConvNet model for Corel: try options with and without residual layers"
      ],
      "id": "d0091688"
    },
    {
      "cell_type": "code",
      "metadata": {
        "id": "d2cf7b59",
        "colab": {
          "base_uri": "https://localhost:8080/",
          "height": 269
        },
        "outputId": "06afc665-4f9d-4ca6-a0cd-23291b3b0ec0"
      },
      "source": [
        "from functools import partial\n",
        "import matplotlib.image as mpimg\n",
        "\n",
        "# Show residual layer \n",
        "\n",
        "img = mpimg.imread('./residual_layer.png')\n",
        "imgplot = plt.imshow(img)\n",
        "plt.show()"
      ],
      "id": "d2cf7b59",
      "execution_count": null,
      "outputs": [
        {
          "output_type": "display_data",
          "data": {
            "image/png": "[encoded data removed]",
            "text/plain": [
              "<Figure size 432x288 with 1 Axes>"
            ]
          },
          "metadata": {
            "needs_background": "light"
          }
        }
      ]
    },
    {
      "cell_type": "code",
      "metadata": {
        "id": "5641e026"
      },
      "source": [
        "DefaultConv2D = partial(keras.layers.Conv2D, padding=\"same\")\n",
        "\n",
        "class ResidualUnit(keras.layers.Layer):\n",
        "    def __init__(self, filters=32, activation=\"relu\", **kwargs):\n",
        "        super().__init__(**kwargs)\n",
        "        self.activation = keras.activations.get(activation)\n",
        "        self.main_layers = [\n",
        "            DefaultConv2D(filters, kernel_size=(5,5), strides=(2,2)),\n",
        "            keras.layers.BatchNormalization(),\n",
        "            self.activation,\n",
        "            DefaultConv2D(filters, kernel_size=(5,5), strides=(1,1)),\n",
        "            keras.layers.BatchNormalization()]\n",
        "        self.skip_layers = [\n",
        "                DefaultConv2D(filters, kernel_size=(1,1), strides=(2,2)),\n",
        "                keras.layers.BatchNormalization()]\n",
        "\n",
        "    def call(self, inputs):\n",
        "        Z = inputs\n",
        "        for i, layer in enumerate(self.main_layers):\n",
        "            Z = layer(Z)\n",
        "            if (i == 1):\n",
        "                Z1 = Z\n",
        "        skip_Z = inputs\n",
        "        for layer in self.skip_layers:\n",
        "            skip_Z = layer(skip_Z)\n",
        "        return self.activation(Z + Z1 + skip_Z)\n",
        "        \n",
        "def ModelForCorel(nclasses, lr, padding_opt, initializer_opt, residual_model): \n",
        "    model = models.Sequential()\n",
        "    if (residual_model):\n",
        "        model.add(ResidualUnit(filters=32))\n",
        "        model.add(layers.MaxPooling2D(pool_size=(3,3),strides=(2,2), name='pool1_1', padding=padding_opt))\n",
        "    else:\n",
        "        model.add(layers.Conv2D(filters=32, kernel_size=(3,3), name='conv1_1', \n",
        "                            dilation_rate=(1,1), \n",
        "                            activation=None, input_shape=(xsize,ysize,nchannels), \n",
        "                            padding=padding_opt, \n",
        "                            kernel_initializer=initializer_opt))\n",
        "        model.add(layers.BatchNormalization(name='bn1_1'))\n",
        "        model.add(layers.ReLU(max_value=None, negative_slope=0, name='relu1_1', threshold=0))\n",
        "        model.add(layers.MaxPooling2D(pool_size=(3,3), strides=(2,2), \n",
        "                                  name='pool1_1', padding=padding_opt)) \n",
        "        model.add(layers.Conv2D(filters=64, kernel_size=(3, 3), name='conv2_1', \n",
        "                            dilation_rate=(1,1), padding=padding_opt, activation=None, \n",
        "                            kernel_initializer=initializer_opt))\n",
        "        model.add(layers.BatchNormalization(name='bn2_1'))\n",
        "        model.add(layers.ReLU(max_value=None, negative_slope=0, name='relu2_1', threshold=0))\n",
        "        model.add(layers.MaxPooling2D(pool_size=(3,3),strides=(2,2), name='pool2_1', padding=padding_opt))\n",
        "    model.add(layers.Flatten())\n",
        "    model.add(layers.Dense(512, name='dense1', activation='relu', \n",
        "                 kernel_initializer=initializer_opt, kernel_regularizer=tf.keras.regularizers.l2(0.2)))\n",
        "    model.add(layers.Dropout(0.5))\n",
        "    # For categorical datasets (classes are 0,1,2,...,c-1)\n",
        "    model.add(layers.Dense(nclasses, activation='softmax', name='decision', kernel_initializer=initializer_opt, \n",
        "                           kernel_regularizer=tf.keras.regularizers.l2(0.2)))\n",
        "    opt = optimizers.Adam(learning_rate=lr)\n",
        "    #opt = optimizers.RMSprop(learning_rate=lr)\n",
        "    #opt = optimizers.Nadam(learning_rate=lr, beta_1=0.9, beta_2=0.999, epsilon=1e-08, schedule_decay=0.004)\n",
        " \n",
        "    model.compile(loss='categorical_crossentropy', optimizer = opt, metrics=['acc'])\n",
        "    return(model)"
      ],
      "id": "5641e026",
      "execution_count": null,
      "outputs": []
    },
    {
      "cell_type": "markdown",
      "metadata": {
        "id": "43755bd1"
      },
      "source": [
        "### Define a ConvNet: You can play with its architecture and parameters. Note that, as you add more layers (i.e., parameters), more epochs might be required for training the model with no overfitting.   "
      ],
      "id": "43755bd1"
    },
    {
      "cell_type": "code",
      "metadata": {
        "scrolled": true,
        "id": "b71f7ef0"
      },
      "source": [
        "keras.backend.clear_session() # clean memory from previous models \n",
        "np.random.seed(42)            \n",
        "tf.random.set_seed(42)\n",
        "\n",
        "# Model to process the dataset\n",
        "residual_model  = False\n",
        "lr              = 1e-6\n",
        "padding_opt     = 'same'           # same, valid\n",
        "initializer_opt = 'he_uniform'     # he_uniform, lecun_normal\n",
        "\n",
        "model = ModelForCorel(nclasses, lr, padding_opt, initializer_opt, residual_model)"
      ],
      "id": "b71f7ef0",
      "execution_count": null,
      "outputs": []
    },
    {
      "cell_type": "markdown",
      "metadata": {
        "id": "e86ec4b6"
      },
      "source": [
        "### Train the model and visualize its summary, training and validation loss curves"
      ],
      "id": "e86ec4b6"
    },
    {
      "cell_type": "code",
      "metadata": {
        "scrolled": true,
        "id": "b5712f99",
        "colab": {
          "base_uri": "https://localhost:8080/"
        },
        "outputId": "e4232ed1-125a-495a-e00f-ea3699129218"
      },
      "source": [
        "nepochs   = 20\n",
        "batchsize = 20\n",
        "\n",
        "def exponential_decay(epoch):\n",
        "    return(lr*0.1**(epoch/nepochs))\n",
        "\n",
        "def TrainModel(model, batchsize, nepochs, model_basename, residual_model):\n",
        "    lr_scheduler = keras.callbacks.LearningRateScheduler(exponential_decay)\n",
        "    my_callbacks = [tf.keras.callbacks.EarlyStopping(patience=max(2,nepochs/5), restore_best_weights=True), \n",
        "                    tf.keras.callbacks.ModelCheckpoint(model_basename, save_best_only=True), \n",
        "                    lr_scheduler]\n",
        "    if (residual_model):\n",
        "        history      = model.fit(X_train,Y_train,epochs=nepochs,\n",
        "                                 batch_size=batchsize, \n",
        "                                 validation_data=(X_valid,Y_valid))\n",
        "    else:\n",
        "        history      = model.fit(X_train,Y_train,epochs=nepochs,\n",
        "                                 batch_size=batchsize, \n",
        "                                 validation_data=(X_valid,Y_valid), callbacks = my_callbacks)\n",
        "    return(history)\n",
        "\n",
        "history = TrainModel(model, batchsize, nepochs, model_basename, residual_model)"
      ],
      "id": "b5712f99",
      "execution_count": null,
      "outputs": [
        {
          "output_type": "stream",
          "name": "stdout",
          "text": [
            "Epoch 1/20\n",
            "11/11 [==============================] - 28s 2s/step - loss: 209.3117 - acc: 0.2817 - val_loss: 211.1926 - val_acc: 0.3239\n",
            "INFO:tensorflow:Assets written to: corel/assets\n",
            "Epoch 2/20\n",
            "11/11 [==============================] - 26s 2s/step - loss: 208.2518 - acc: 0.4977 - val_loss: 208.7120 - val_acc: 0.5352\n",
            "INFO:tensorflow:Assets written to: corel/assets\n",
            "Epoch 3/20\n",
            "11/11 [==============================] - 26s 2s/step - loss: 207.6403 - acc: 0.6479 - val_loss: 208.3063 - val_acc: 0.5775\n",
            "INFO:tensorflow:Assets written to: corel/assets\n",
            "Epoch 4/20\n",
            "11/11 [==============================] - 26s 2s/step - loss: 207.1903 - acc: 0.7089 - val_loss: 207.6957 - val_acc: 0.5915\n",
            "INFO:tensorflow:Assets written to: corel/assets\n",
            "Epoch 5/20\n",
            "11/11 [==============================] - 26s 2s/step - loss: 206.9054 - acc: 0.8169 - val_loss: 207.3716 - val_acc: 0.6056\n",
            "INFO:tensorflow:Assets written to: corel/assets\n",
            "Epoch 6/20\n",
            "11/11 [==============================] - 26s 2s/step - loss: 206.6816 - acc: 0.8122 - val_loss: 207.0663 - val_acc: 0.6056\n",
            "INFO:tensorflow:Assets written to: corel/assets\n",
            "Epoch 7/20\n",
            "11/11 [==============================] - 27s 2s/step - loss: 206.4814 - acc: 0.8310 - val_loss: 206.9263 - val_acc: 0.6197\n",
            "INFO:tensorflow:Assets written to: corel/assets\n",
            "Epoch 8/20\n",
            "11/11 [==============================] - 27s 2s/step - loss: 206.2736 - acc: 0.8545 - val_loss: 206.7100 - val_acc: 0.6479\n",
            "INFO:tensorflow:Assets written to: corel/assets\n",
            "Epoch 9/20\n",
            "11/11 [==============================] - 26s 2s/step - loss: 206.1247 - acc: 0.8732 - val_loss: 206.4612 - val_acc: 0.6761\n",
            "INFO:tensorflow:Assets written to: corel/assets\n",
            "Epoch 10/20\n",
            "11/11 [==============================] - 27s 2s/step - loss: 206.0151 - acc: 0.8451 - val_loss: 206.2632 - val_acc: 0.7465\n",
            "INFO:tensorflow:Assets written to: corel/assets\n",
            "Epoch 11/20\n",
            "11/11 [==============================] - 26s 2s/step - loss: 205.8657 - acc: 0.8826 - val_loss: 206.1271 - val_acc: 0.7183\n",
            "INFO:tensorflow:Assets written to: corel/assets\n",
            "Epoch 12/20\n",
            "11/11 [==============================] - 26s 2s/step - loss: 205.7814 - acc: 0.8592 - val_loss: 205.9816 - val_acc: 0.7465\n",
            "INFO:tensorflow:Assets written to: corel/assets\n",
            "Epoch 13/20\n",
            "11/11 [==============================] - 26s 2s/step - loss: 205.6891 - acc: 0.8920 - val_loss: 205.8457 - val_acc: 0.7465\n",
            "INFO:tensorflow:Assets written to: corel/assets\n",
            "Epoch 14/20\n",
            "11/11 [==============================] - 27s 2s/step - loss: 205.5490 - acc: 0.9061 - val_loss: 205.7416 - val_acc: 0.7606\n",
            "INFO:tensorflow:Assets written to: corel/assets\n",
            "Epoch 15/20\n",
            "11/11 [==============================] - 27s 2s/step - loss: 205.5276 - acc: 0.8967 - val_loss: 205.6497 - val_acc: 0.7746\n",
            "INFO:tensorflow:Assets written to: corel/assets\n",
            "Epoch 16/20\n",
            "11/11 [==============================] - 27s 2s/step - loss: 205.4105 - acc: 0.9014 - val_loss: 205.5618 - val_acc: 0.7887\n",
            "INFO:tensorflow:Assets written to: corel/assets\n",
            "Epoch 17/20\n",
            "11/11 [==============================] - 27s 2s/step - loss: 205.3722 - acc: 0.9061 - val_loss: 205.4911 - val_acc: 0.7887\n",
            "INFO:tensorflow:Assets written to: corel/assets\n",
            "Epoch 18/20\n",
            "11/11 [==============================] - 27s 2s/step - loss: 205.2839 - acc: 0.8967 - val_loss: 205.4332 - val_acc: 0.8028\n",
            "INFO:tensorflow:Assets written to: corel/assets\n",
            "Epoch 19/20\n",
            "11/11 [==============================] - 27s 2s/step - loss: 205.2114 - acc: 0.9249 - val_loss: 205.3836 - val_acc: 0.8169\n",
            "INFO:tensorflow:Assets written to: corel/assets\n",
            "Epoch 20/20\n",
            "11/11 [==============================] - 27s 2s/step - loss: 205.2435 - acc: 0.9202 - val_loss: 205.3265 - val_acc: 0.8310\n",
            "INFO:tensorflow:Assets written to: corel/assets\n"
          ]
        }
      ]
    },
    {
      "cell_type": "code",
      "metadata": {
        "id": "2c729aa6",
        "colab": {
          "base_uri": "https://localhost:8080/",
          "height": 1000
        },
        "outputId": "9270e472-6b65-47b2-e898-5cc35b091e10"
      },
      "source": [
        "def PlotHistory(history):\n",
        "    history_dict    = history.history\n",
        "    train_loss      = history_dict['loss']\n",
        "    valid_loss      = history_dict['val_loss']\n",
        "    epochs          = [ i for i in range(1, len(train_loss)+1)]\n",
        "    plt.plot(epochs, train_loss, 'bo', label='Training loss')\n",
        "    plt.plot(epochs, valid_loss, 'b', label='Validation loss')\n",
        "    plt.title('Training and Validation Loss Curves')\n",
        "    plt.xlabel('Epochs')\n",
        "    plt.ylabel('Loss Values')\n",
        "    plt.legend()\n",
        "    plt.show()\n",
        "    plt.clf() # Clear the figure\n",
        "    train_acc       = history_dict['acc']\n",
        "    valid_acc       = history_dict['val_acc']\n",
        "    plt.plot(epochs, train_acc, 'bo', label='Training acc')\n",
        "    plt.plot(epochs, valid_acc, 'b', label='Validation acc')\n",
        "    plt.title('Training and Validation Acc Curves')\n",
        "    plt.xlabel('Epochs')\n",
        "    plt.ylabel('Acc Values')\n",
        "    plt.legend()\n",
        "    plt.show()\n",
        "    \n",
        "# prints the model and the training history\n",
        "model.summary()    \n",
        "PlotHistory(history)"
      ],
      "id": "2c729aa6",
      "execution_count": null,
      "outputs": [
        {
          "output_type": "stream",
          "name": "stdout",
          "text": [
            "Model: \"sequential\"\n",
            "_________________________________________________________________\n",
            "Layer (type)                 Output Shape              Param #   \n",
            "=================================================================\n",
            "conv1_1 (Conv2D)             (None, 200, 200, 32)      896       \n",
            "_________________________________________________________________\n",
            "bn1_1 (BatchNormalization)   (None, 200, 200, 32)      128       \n",
            "_________________________________________________________________\n",
            "relu1_1 (ReLU)               (None, 200, 200, 32)      0         \n",
            "_________________________________________________________________\n",
            "pool1_1 (MaxPooling2D)       (None, 100, 100, 32)      0         \n",
            "_________________________________________________________________\n",
            "conv2_1 (Conv2D)             (None, 100, 100, 64)      18496     \n",
            "_________________________________________________________________\n",
            "bn2_1 (BatchNormalization)   (None, 100, 100, 64)      256       \n",
            "_________________________________________________________________\n",
            "relu2_1 (ReLU)               (None, 100, 100, 64)      0         \n",
            "_________________________________________________________________\n",
            "pool2_1 (MaxPooling2D)       (None, 50, 50, 64)        0         \n",
            "_________________________________________________________________\n",
            "flatten (Flatten)            (None, 160000)            0         \n",
            "_________________________________________________________________\n",
            "dense1 (Dense)               (None, 512)               81920512  \n",
            "_________________________________________________________________\n",
            "dropout (Dropout)            (None, 512)               0         \n",
            "_________________________________________________________________\n",
            "decision (Dense)             (None, 6)                 3078      \n",
            "=================================================================\n",
            "Total params: 81,943,366\n",
            "Trainable params: 81,943,174\n",
            "Non-trainable params: 192\n",
            "_________________________________________________________________\n"
          ]
        },
        {
          "output_type": "display_data",
          "data": {
            "image/png": "[encoded data removed]",
            "text/plain": [
              "<Figure size 432x288 with 1 Axes>"
            ]
          },
          "metadata": {
            "needs_background": "light"
          }
        },
        {
          "output_type": "display_data",
          "data": {
            "image/png": "[encoded data removed]",
            "text/plain": [
              "<Figure size 432x288 with 1 Axes>"
            ]
          },
          "metadata": {
            "needs_background": "light"
          }
        }
      ]
    },
    {
      "cell_type": "markdown",
      "metadata": {
        "id": "36bf614f"
      },
      "source": [
        "### Save model"
      ],
      "id": "36bf614f"
    },
    {
      "cell_type": "code",
      "metadata": {
        "id": "9f37e8db"
      },
      "source": [
        "if (residual_model):\n",
        "    model.save(model_basename+'.tf')\n",
        "else:\n",
        "    model.save(model_basename+'.h5')\n",
        "    \n",
        "#model = tf.keras.models.load_model(model_basename+'.tf')    \n",
        "#model = tf.keras.models.load_model(model_basename+'.h5')    "
      ],
      "id": "9f37e8db",
      "execution_count": null,
      "outputs": []
    },
    {
      "cell_type": "markdown",
      "metadata": {
        "id": "515c7457"
      },
      "source": [
        "### Evaluate model"
      ],
      "id": "515c7457"
    },
    {
      "cell_type": "code",
      "metadata": {
        "id": "c903c66b",
        "colab": {
          "base_uri": "https://localhost:8080/"
        },
        "outputId": "61985a22-c824-4fa0-cd67-a456db115f7d"
      },
      "source": [
        "scores = model.evaluate(X_test, Y_test, verbose=1)"
      ],
      "id": "c903c66b",
      "execution_count": null,
      "outputs": [
        {
          "output_type": "stream",
          "name": "stdout",
          "text": [
            "3/3 [==============================] - 2s 461ms/step - loss: 205.4317 - acc: 0.7887\n"
          ]
        }
      ]
    },
    {
      "cell_type": "markdown",
      "metadata": {
        "id": "7TYh-D7wiqVE"
      },
      "source": [
        "## AlexNet"
      ],
      "id": "7TYh-D7wiqVE"
    },
    {
      "cell_type": "code",
      "metadata": {
        "id": "dMwbsQtyipys"
      },
      "source": [
        "model_alex = keras.models.Sequential([\n",
        "    keras.layers.Conv2D(filters=96, kernel_size=(11,11), strides=(4,4), activation='relu', input_shape=(xsize,ysize,nchannels)),\n",
        "    keras.layers.BatchNormalization(),\n",
        "    keras.layers.MaxPool2D(pool_size=(3,3), strides=(2,2)),\n",
        "    keras.layers.Conv2D(filters=256, kernel_size=(5,5), strides=(1,1), activation='relu', padding=\"same\"),\n",
        "    keras.layers.BatchNormalization(),\n",
        "    keras.layers.MaxPool2D(pool_size=(3,3), strides=(2,2)),\n",
        "    keras.layers.Conv2D(filters=384, kernel_size=(3,3), strides=(1,1), activation='relu', padding=\"same\"),\n",
        "    keras.layers.BatchNormalization(),\n",
        "    keras.layers.Conv2D(filters=384, kernel_size=(3,3), strides=(1,1), activation='relu', padding=\"same\"),\n",
        "    keras.layers.BatchNormalization(),\n",
        "    keras.layers.Conv2D(filters=256, kernel_size=(3,3), strides=(1,1), activation='relu', padding=\"same\"),\n",
        "    keras.layers.BatchNormalization(),\n",
        "    keras.layers.MaxPool2D(pool_size=(3,3), strides=(2,2)),\n",
        "    keras.layers.Flatten(),\n",
        "    keras.layers.Dense(4096, activation='relu'),\n",
        "    keras.layers.Dropout(0.5),\n",
        "    keras.layers.Dense(4096, activation='relu'),\n",
        "    keras.layers.Dropout(0.5),\n",
        "    keras.layers.Dense(nclasses, activation='softmax')\n",
        "])"
      ],
      "id": "dMwbsQtyipys",
      "execution_count": null,
      "outputs": []
    },
    {
      "cell_type": "code",
      "metadata": {
        "id": "M9jMb2kEi4t1"
      },
      "source": [
        "import matplotlib.pyplot as plt\n",
        "import os\n",
        "import time\n",
        "\n",
        "root_logdir = os.path.join(os.curdir, \"logs\\\\fit\\\\\")\n",
        "def get_run_logdir():\n",
        "    run_id = time.strftime(\"run_%Y_%m_%d-%H_%M_%S\")\n",
        "    return os.path.join(root_logdir, run_id)\n",
        "run_logdir = get_run_logdir()\n",
        "tensorboard_cb = keras.callbacks.TensorBoard(run_logdir)"
      ],
      "id": "M9jMb2kEi4t1",
      "execution_count": null,
      "outputs": []
    },
    {
      "cell_type": "code",
      "metadata": {
        "colab": {
          "base_uri": "https://localhost:8080/"
        },
        "id": "wCAQlEUajDwV",
        "outputId": "5052242d-4250-4219-f7de-9ef2f49b222b"
      },
      "source": [
        "model_alex.compile(loss='categorical_crossentropy', optimizer = tf.optimizers.SGD(lr=0.001), metrics=['acc'])\n",
        "model_alex.summary()"
      ],
      "id": "wCAQlEUajDwV",
      "execution_count": null,
      "outputs": [
        {
          "output_type": "stream",
          "name": "stdout",
          "text": [
            "Model: \"sequential_3\"\n",
            "_________________________________________________________________\n",
            "Layer (type)                 Output Shape              Param #   \n",
            "=================================================================\n",
            "conv2d_10 (Conv2D)           (None, 48, 48, 96)        34944     \n",
            "_________________________________________________________________\n",
            "batch_normalization_10 (Batc (None, 48, 48, 96)        384       \n",
            "_________________________________________________________________\n",
            "max_pooling2d_6 (MaxPooling2 (None, 23, 23, 96)        0         \n",
            "_________________________________________________________________\n",
            "conv2d_11 (Conv2D)           (None, 23, 23, 256)       614656    \n",
            "_________________________________________________________________\n",
            "batch_normalization_11 (Batc (None, 23, 23, 256)       1024      \n",
            "_________________________________________________________________\n",
            "max_pooling2d_7 (MaxPooling2 (None, 11, 11, 256)       0         \n",
            "_________________________________________________________________\n",
            "conv2d_12 (Conv2D)           (None, 11, 11, 384)       885120    \n",
            "_________________________________________________________________\n",
            "batch_normalization_12 (Batc (None, 11, 11, 384)       1536      \n",
            "_________________________________________________________________\n",
            "conv2d_13 (Conv2D)           (None, 11, 11, 384)       1327488   \n",
            "_________________________________________________________________\n",
            "batch_normalization_13 (Batc (None, 11, 11, 384)       1536      \n",
            "_________________________________________________________________\n",
            "conv2d_14 (Conv2D)           (None, 11, 11, 256)       884992    \n",
            "_________________________________________________________________\n",
            "batch_normalization_14 (Batc (None, 11, 11, 256)       1024      \n",
            "_________________________________________________________________\n",
            "max_pooling2d_8 (MaxPooling2 (None, 5, 5, 256)         0         \n",
            "_________________________________________________________________\n",
            "flatten_3 (Flatten)          (None, 6400)              0         \n",
            "_________________________________________________________________\n",
            "dense_6 (Dense)              (None, 4096)              26218496  \n",
            "_________________________________________________________________\n",
            "dropout_5 (Dropout)          (None, 4096)              0         \n",
            "_________________________________________________________________\n",
            "dense_7 (Dense)              (None, 4096)              16781312  \n",
            "_________________________________________________________________\n",
            "dropout_6 (Dropout)          (None, 4096)              0         \n",
            "_________________________________________________________________\n",
            "dense_8 (Dense)              (None, 6)                 24582     \n",
            "=================================================================\n",
            "Total params: 46,777,094\n",
            "Trainable params: 46,774,342\n",
            "Non-trainable params: 2,752\n",
            "_________________________________________________________________\n"
          ]
        },
        {
          "output_type": "stream",
          "name": "stderr",
          "text": [
            "/usr/local/lib/python3.7/dist-packages/keras/optimizer_v2/optimizer_v2.py:356: UserWarning: The `lr` argument is deprecated, use `learning_rate` instead.\n",
            "  \"The `lr` argument is deprecated, use `learning_rate` instead.\")\n"
          ]
        }
      ]
    },
    {
      "cell_type": "code",
      "metadata": {
        "colab": {
          "base_uri": "https://localhost:8080/"
        },
        "id": "W3cW4Wb9jHvU",
        "outputId": "d0dcacaf-7eff-412a-a3eb-689f599bca3e"
      },
      "source": [
        "lr_scheduler = keras.callbacks.LearningRateScheduler(exponential_decay)\n",
        "my_callback = [tf.keras.callbacks.EarlyStopping(patience=max(2,nepochs/5), restore_best_weights=True), lr_scheduler]\n",
        "\n",
        "history = model_alex.fit(X_train, Y_train,\n",
        "               batch_size = batchsize,\n",
        "               epochs=20,\n",
        "               validation_data=(X_valid,Y_valid),\n",
        "               callbacks = my_callbacks)"
      ],
      "id": "W3cW4Wb9jHvU",
      "execution_count": null,
      "outputs": [
        {
          "output_type": "stream",
          "name": "stdout",
          "text": [
            "Epoch 1/20\n",
            "11/11 [==============================] - 26s 2s/step - loss: 2.7690 - acc: 0.3099 - val_loss: 2.9015 - val_acc: 0.1831\n",
            "Epoch 2/20\n",
            "11/11 [==============================] - 25s 2s/step - loss: 1.6094 - acc: 0.5587 - val_loss: 2.3773 - val_acc: 0.2113\n",
            "Epoch 3/20\n",
            "11/11 [==============================] - 25s 2s/step - loss: 1.2103 - acc: 0.6291 - val_loss: 2.0803 - val_acc: 0.2113\n",
            "Epoch 4/20\n",
            "11/11 [==============================] - 25s 2s/step - loss: 0.8924 - acc: 0.6761 - val_loss: 1.4003 - val_acc: 0.4366\n",
            "Epoch 5/20\n",
            "11/11 [==============================] - 25s 2s/step - loss: 0.6442 - acc: 0.7934 - val_loss: 1.6254 - val_acc: 0.3521\n",
            "Epoch 6/20\n",
            "11/11 [==============================] - 25s 2s/step - loss: 0.6489 - acc: 0.7512 - val_loss: 1.5963 - val_acc: 0.3099\n",
            "Epoch 7/20\n",
            "11/11 [==============================] - 25s 2s/step - loss: 0.4988 - acc: 0.8263 - val_loss: 0.9794 - val_acc: 0.5634\n",
            "Epoch 8/20\n",
            "11/11 [==============================] - 25s 2s/step - loss: 0.3168 - acc: 0.9014 - val_loss: 0.9482 - val_acc: 0.5493\n",
            "Epoch 9/20\n",
            "11/11 [==============================] - 25s 2s/step - loss: 0.2665 - acc: 0.9108 - val_loss: 0.8905 - val_acc: 0.6338\n",
            "Epoch 10/20\n",
            "11/11 [==============================] - 25s 2s/step - loss: 0.2880 - acc: 0.8920 - val_loss: 0.6598 - val_acc: 0.7606\n",
            "Epoch 11/20\n",
            "11/11 [==============================] - 25s 2s/step - loss: 0.1825 - acc: 0.9437 - val_loss: 0.6582 - val_acc: 0.7324\n",
            "Epoch 12/20\n",
            "11/11 [==============================] - 25s 2s/step - loss: 0.2662 - acc: 0.8920 - val_loss: 0.5556 - val_acc: 0.7887\n",
            "Epoch 13/20\n",
            "11/11 [==============================] - 25s 2s/step - loss: 0.2856 - acc: 0.8920 - val_loss: 0.5246 - val_acc: 0.8028\n",
            "Epoch 14/20\n",
            "11/11 [==============================] - 25s 2s/step - loss: 0.1595 - acc: 0.9437 - val_loss: 0.4521 - val_acc: 0.8169\n",
            "Epoch 15/20\n",
            "11/11 [==============================] - 26s 2s/step - loss: 0.1609 - acc: 0.9531 - val_loss: 0.3782 - val_acc: 0.8732\n",
            "Epoch 16/20\n",
            "11/11 [==============================] - 25s 2s/step - loss: 0.1250 - acc: 0.9577 - val_loss: 0.3239 - val_acc: 0.8732\n",
            "Epoch 17/20\n",
            "11/11 [==============================] - 25s 2s/step - loss: 0.1106 - acc: 0.9390 - val_loss: 0.3003 - val_acc: 0.9014\n",
            "Epoch 18/20\n",
            "11/11 [==============================] - 25s 2s/step - loss: 0.0886 - acc: 0.9765 - val_loss: 0.3420 - val_acc: 0.8732\n",
            "Epoch 19/20\n",
            "11/11 [==============================] - 25s 2s/step - loss: 0.0869 - acc: 0.9671 - val_loss: 0.2834 - val_acc: 0.9155\n",
            "Epoch 20/20\n",
            "11/11 [==============================] - 25s 2s/step - loss: 0.1979 - acc: 0.9437 - val_loss: 0.3372 - val_acc: 0.8592\n"
          ]
        },
        {
          "output_type": "execute_result",
          "data": {
            "text/plain": [
              "<keras.callbacks.History at 0x7f8b7aa78e90>"
            ]
          },
          "metadata": {},
          "execution_count": 31
        }
      ]
    },
    {
      "cell_type": "code",
      "metadata": {
        "colab": {
          "base_uri": "https://localhost:8080/",
          "height": 573
        },
        "id": "KFh3bMSvoFMl",
        "outputId": "8b96b212-3a41-459e-9aff-2d870b181101"
      },
      "source": [
        "PlotHistory(model_alex.history)"
      ],
      "id": "KFh3bMSvoFMl",
      "execution_count": null,
      "outputs": [
        {
          "output_type": "display_data",
          "data": {
            "image/png": "[encoded data removed]",
            "text/plain": [
              "<Figure size 432x288 with 1 Axes>"
            ]
          },
          "metadata": {
            "needs_background": "light"
          }
        },
        {
          "output_type": "display_data",
          "data": {
            "image/png": "[encoded data removed]",
            "text/plain": [
              "<Figure size 432x288 with 1 Axes>"
            ]
          },
          "metadata": {
            "needs_background": "light"
          }
        }
      ]
    },
    {
      "cell_type": "code",
      "metadata": {
        "colab": {
          "base_uri": "https://localhost:8080/"
        },
        "id": "FmxztCA7prGA",
        "outputId": "387c266b-3253-47de-cdd7-32626ebcbaab"
      },
      "source": [
        "scores = model_alex.evaluate(X_test, Y_test, verbose=1)"
      ],
      "id": "FmxztCA7prGA",
      "execution_count": null,
      "outputs": [
        {
          "output_type": "stream",
          "name": "stdout",
          "text": [
            "3/3 [==============================] - 2s 502ms/step - loss: 0.4036 - acc: 0.8592\n"
          ]
        }
      ]
    },
    {
      "cell_type": "code",
      "metadata": {
        "id": "RZtyOqTup2Il"
      },
      "source": [
        "model_alex.save('model_alex.h5')"
      ],
      "id": "RZtyOqTup2Il",
      "execution_count": null,
      "outputs": []
    }
  ]
}